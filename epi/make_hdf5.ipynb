{
 "cells": [
  {
   "cell_type": "code",
   "execution_count": 1,
   "metadata": {},
   "outputs": [
    {
     "name": "stdout",
     "output_type": "stream",
     "text": [
      "random seed (note down for reproducibility): 3193652305956924952\n"
     ]
    }
   ],
   "source": [
    "import torch\n",
    "import tables\n",
    "import os,sys\n",
    "import glob\n",
    "import PIL\n",
    "import numpy as np\n",
    "import cv2\n",
    "import matplotlib.pyplot as plt\n",
    "from sklearn import model_selection\n",
    "import sklearn.feature_extraction.image\n",
    "import random\n",
    "from types import SimpleNamespace\n",
    "\n",
    "\n",
    "seed = random.randrange(sys.maxsize) #get a random seed so that we can reproducibly do the cross validation setup\n",
    "random.seed(seed) # set the seed\n",
    "print(f\"random seed (note down for reproducibility): {seed}\")"
   ]
  },
  {
   "cell_type": "code",
   "execution_count": 3,
   "metadata": {},
   "outputs": [
    {
     "name": "stdout",
     "output_type": "stream",
     "text": [
      "Y:\\home\\yxz1826\\Skin\\tiles\\5_tile Y:\\home\\yxz1826\\Skin\\tiles\\\\5_mask C:\\pytable\n",
      "melanoma_png_5\n"
     ]
    }
   ],
   "source": [
    "\n",
    "\n",
    "params = {}\n",
    "\n",
    "params['targetMag'] = 5\n",
    "#17S050572_1A_L12 - 2018-03-20 13.09.26.ndpi Masked out because of too large to be saved in mag=8\n",
    "params['baseMag'] = 20\n",
    "params['file_ext']= \".png\"\n",
    "params['mask_ext'] = \".png\"\n",
    "params['mask_pattern'] = \"*\"\n",
    "\n",
    "#imgdir = f\"/home/yxz1826/downsampled/{targetMag}_group\"\n",
    "#maskroot = '/Skin/QupathOut/multi_mag'\n",
    "\n",
    "#maskdir = maskroot+f\"/{targetMag:.1f}/\"\n",
    "#pytable_root = '/mnt/ccipd_home/yxz1826/Skin/pytable'\n",
    "\n",
    "params['imgdir'] = f\"Y:\\\\home\\\\yxz1826\\\\Skin\\\\tiles\\\\{params.get('targetMag'):.0f}_tile\"\n",
    "params['maskroot'] = 'Y:\\\\home\\\\yxz1826\\\\Skin\\\\tiles\\\\'\n",
    "params['maskdir'] = params.get('maskroot')+f\"\\\\{params.get('targetMag'):.0f}_mask\"\n",
    "params['pytable_root'] = 'C:\\\\pytable'\n",
    "print(params.get('imgdir'),params.get('maskdir'),params.get('pytable_root'))\n",
    "\n",
    "params['dataname']=\"melanoma_png\"+\"_\"+str(params.get('targetMag'))\n",
    "params['patch_size']=500 #size of the tiles to extract and save in the database, must be >= to training size\n",
    "params['test_set_size']=.1 # what percentage of the dataset should be used as a held out validation/testing set\n",
    "params['classes']=[0,1,2,3] #what classes we expect to have in the data, here we have only 2 classes but we could add additional classes and/or specify an index from which we would like to ignore\n",
    "\n",
    "params['stride_size']=250\n",
    "params['mirror_pad_size']=250\n",
    "params['resize'] = 1.\n",
    "params['img_dtype'] = tables.UInt8Atom()  # dtype in which the images will be saved, this indicates that images will be saved as unsigned int 8 bit, i.e., [0,255]\n",
    "params['filenameAtom'] = tables.StringAtom(itemsize=255) #create an atom to store the filename of the image, just incase we need it later, \n",
    "#params = SimpleNamespace(**params)\n",
    "print(params.get('dataname'))"
   ]
  },
  {
   "cell_type": "code",
   "execution_count": 4,
   "metadata": {},
   "outputs": [
    {
     "name": "stdout",
     "output_type": "stream",
     "text": [
      "0\n"
     ]
    }
   ],
   "source": [
    "maskpattern = params.get('maskdir')+'\\\\'+params.get('mask_pattern')+params.get('mask_ext')\n",
    "files=glob.glob(maskpattern) # create a list of the files, in this case we're only interested in files which have masks so we can use supervised learning\n",
    "\n",
    "#create training and validation stages and split the files appropriately between them\n",
    "phases={}\n",
    "phases[\"train\"],phases[\"val\"]=next(iter(model_selection.ShuffleSplit(n_splits=10,test_size=params.get('test_set_size')).split(files)))\n",
    "\n",
    "#specify that we'll be saving 2 different image types to the database, an image and its associated masked\n",
    "imgtypes=[\"mask\",\"img\"]\n",
    "print(len(files))"
   ]
  },
  {
   "cell_type": "code",
   "execution_count": 5,
   "metadata": {},
   "outputs": [],
   "source": [
    "from tqdm import tqdm\n",
    "import readslide\n",
    "from readslide import getThumbByMag\n",
    "\n",
    "from readslide import ioAdaptor\n",
    "from readslide import defaultNameParser\n",
    "from readslide import defaultLabelMap\n",
    "import traceback\n"
   ]
  },
  {
   "cell_type": "code",
   "execution_count": 6,
   "metadata": {
    "scrolled": true
   },
   "outputs": [
    {
     "name": "stdout",
     "output_type": "stream",
     "text": [
      "train\n"
     ]
    },
    {
     "name": "stderr",
     "output_type": "stream",
     "text": [
      "0it [00:00, ?it/s]\n"
     ]
    },
    {
     "name": "stdout",
     "output_type": "stream",
     "text": [
      "val\n"
     ]
    },
    {
     "name": "stderr",
     "output_type": "stream",
     "text": [
      "0it [00:00, ?it/s]\n"
     ]
    }
   ],
   "source": [
    "############ function handles\n",
    "imageIOAdaptor = ioAdaptor;\n",
    "nameParser = defaultNameParser;\n",
    "inputfun = {}\n",
    "inputfun['img'] = cv2.imread\n",
    "inputfun['mask'] = cv2.imread\n",
    "\n",
    "###################################\n",
    "storage={} #holder for future pytables\n",
    "err_report = []\n",
    "h5_debug = {}\n",
    "block_shape={} #block shape specifies what we'll be saving into the pytable array, here we assume that masks are 1d and images are 3d\n",
    "block_shape[\"img\"]= np.array((params.get('patch_size'),params.get('patch_size'),3))\n",
    "block_shape[\"mask\"]= np.array((params.get('patch_size'),params.get('patch_size')))  # the output for both imgtypes has 3 channels here\n",
    "patch_shape={}\n",
    "patch_shape['img']=(params.get('patch_size'),params.get('patch_size'),3)\n",
    "patch_shape['mask']=(params.get('patch_size'),params.get('patch_size'),3)\n",
    "\n",
    "filters=tables.Filters(complevel=6, complib='zlib') #we can also specify filters, such as compression, to improve storage speed\n",
    "interpolation  = {}\n",
    "interpolation['img'] = PIL.Image.BICUBIC\n",
    "interpolation['mask'] = PIL.Image.NEAREST\n",
    "pad_shape = {}\n",
    "pad_shape['img'] =  [(params.get('mirror_pad_size'), params.get('mirror_pad_size')), (params.get('mirror_pad_size'), params.get('mirror_pad_size')), (0, 0)]\n",
    "pad_shape['mask'] =  [(params.get('mirror_pad_size'), params.get('mirror_pad_size')), (params.get('mirror_pad_size'), params.get('mirror_pad_size')),(0,0)]\n",
    "\n",
    "for phase in phases.keys(): #now for each of the phases, we'll loop through the files\n",
    "    print(phase)\n",
    "    \n",
    "    totals=np.zeros((2,len(params.get('classes')))) # we can to keep counts of all the classes in for in particular training, since we \n",
    "    totals[0,:]=params.get('classes')               # can later use this information to create better weights\n",
    "\n",
    "    hdf5_file = tables.open_file(f\"{params.get('pytable_root')}/{params.get('dataname')}_{phase}.pytable\", mode='w') #open the respective pytable\n",
    "    h5_debug[phase] = hdf5_file\n",
    "    storage[\"filename\"] = hdf5_file.create_earray(hdf5_file.root, 'filename', params.get('filenameAtom'), (0,)) #create the array for storage\n",
    "    \n",
    "    for imgtype in imgtypes: #for each of the image types, in this case mask and image, we need to create the associated earray\n",
    "        storage[imgtype]= hdf5_file.create_earray(hdf5_file.root, imgtype, params.get('img_dtype'),  \n",
    "                                                  shape=np.append([0],block_shape[imgtype]), \n",
    "                                                  chunkshape=np.append([1],block_shape[imgtype]),\n",
    "                                                  filters=filters)\n",
    "    io_arr_out = {}\n",
    "    for filei in tqdm(phases[phase]): #now for each of the files\n",
    "        fname=files[filei] \n",
    "        succeed = True;\n",
    "        try:\n",
    "            for imgtype in imgtypes:\n",
    "                #read image\n",
    "                \n",
    "                name_dict = nameParser(fname,params)\n",
    "                io = ioAdaptor(name_dict[imgtype],imgtype,inputfun[imgtype],params,totals,labelChange = None)             \n",
    "                interp_method = interpolation[imgtype]\n",
    "                io = cv2.resize(io,(0,0),fx=params.get('resize'),fy=params.get('resize'), interpolation=interp_method) #resize it as specified above\n",
    "                io = np.pad(io,pad_shape[imgtype],mode=\"reflect\")\n",
    "\n",
    "                #convert input image into overlapping tiles, size is ntiler x ntilec x 1 x params.get('patch_size') x params.get('patch_size') x3\n",
    "                io_arr_out[imgtype]=sklearn.feature_extraction.image.extract_patches(io,patch_shape[imgtype],params.get('stride_size'))\n",
    " \n",
    "                #resize it into a ntile x params.get('patch_size') x params.get('patch_size') x 3\n",
    "                io_arr_out[imgtype]=io_arr_out[imgtype].reshape(-1,params.get('patch_size'),params.get('patch_size'),3)\n",
    "\n",
    "                succeed = True;    \n",
    "        except Exception as e:\n",
    "                succeed = False; \n",
    "                #raise e\n",
    "                err_report.append((phase,fname,imgtype,str(e),traceback.extract_stack()))\n",
    "            #save the 4D tensor to the table\n",
    "        if (succeed):\n",
    "            #print(1)\n",
    "            storage[\"img\"].append(io_arr_out[\"img\"])\n",
    "            storage[\"mask\"].append(io_arr_out[\"mask\"][:,:,:,0]) #only need 1 channel for mask data\n",
    "            storage[\"filename\"].append([fname for x in range(io_arr_out[imgtype].shape[0])]) #add the filename to the storage array\n",
    "        else:\n",
    "            pass\n",
    "            #print(\"skip:\",err_report[-1])\n",
    "    #lastely, we should store the number of pixels\n",
    "    npixels=hdf5_file.create_carray(hdf5_file.root, 'numpixels', tables.Atom.from_dtype(totals.dtype), totals.shape)\n",
    "    npixels[:]=totals\n",
    "    hdf5_file.close()"
   ]
  },
  {
   "cell_type": "code",
   "execution_count": 8,
   "metadata": {},
   "outputs": [
    {
     "ename": "KeyError",
     "evalue": "'img'",
     "output_type": "error",
     "traceback": [
      "\u001b[1;31m---------------------------------------------------------------------------\u001b[0m",
      "\u001b[1;31mKeyError\u001b[0m                                  Traceback (most recent call last)",
      "\u001b[1;32m<ipython-input-8-c40114b3c47c>\u001b[0m in \u001b[0;36m<module>\u001b[1;34m\u001b[0m\n\u001b[1;32m----> 1\u001b[1;33m \u001b[0mh5_debug\u001b[0m\u001b[1;33m[\u001b[0m\u001b[1;34m\"img\"\u001b[0m\u001b[1;33m]\u001b[0m\u001b[1;33m.\u001b[0m\u001b[0mclose\u001b[0m\u001b[1;33m(\u001b[0m\u001b[1;33m)\u001b[0m\u001b[1;33m\u001b[0m\u001b[1;33m\u001b[0m\u001b[0m\n\u001b[0m\u001b[0;32m      2\u001b[0m \u001b[0mh5_debug\u001b[0m\u001b[1;33m[\u001b[0m\u001b[1;34m\"mask\"\u001b[0m\u001b[1;33m]\u001b[0m\u001b[1;33m.\u001b[0m\u001b[0mclose\u001b[0m\u001b[1;33m(\u001b[0m\u001b[1;33m)\u001b[0m\u001b[1;33m\u001b[0m\u001b[1;33m\u001b[0m\u001b[0m\n",
      "\u001b[1;31mKeyError\u001b[0m: 'img'"
     ]
    }
   ],
   "source": [
    "h5_debug[\"img\"].close()\n",
    "h5_debug[\"mask\"].close()"
   ]
  },
  {
   "cell_type": "code",
   "execution_count": 12,
   "metadata": {},
   "outputs": [
    {
     "ename": "IndexError",
     "evalue": "index 2 is out of bounds for axis 0 with size 2",
     "output_type": "error",
     "traceback": [
      "\u001b[1;31m---------------------------------------------------------------------------\u001b[0m",
      "\u001b[1;31mIndexError\u001b[0m                                Traceback (most recent call last)",
      "\u001b[1;32m<ipython-input-12-f0ed214c9c3c>\u001b[0m in \u001b[0;36m<module>\u001b[1;34m\u001b[0m\n\u001b[0;32m      1\u001b[0m \u001b[1;31m#useful reference\u001b[0m\u001b[1;33m\u001b[0m\u001b[1;33m\u001b[0m\u001b[1;33m\u001b[0m\u001b[0m\n\u001b[0;32m      2\u001b[0m \u001b[1;31m#http://machinelearninguru.com/deep_learning/data_preparation/hdf5/hdf5.html\u001b[0m\u001b[1;33m\u001b[0m\u001b[1;33m\u001b[0m\u001b[1;33m\u001b[0m\u001b[0m\n\u001b[1;32m----> 3\u001b[1;33m \u001b[0mtotals\u001b[0m\u001b[1;33m[\u001b[0m\u001b[1;36m2\u001b[0m\u001b[1;33m]\u001b[0m\u001b[1;33m\u001b[0m\u001b[1;33m\u001b[0m\u001b[0m\n\u001b[0m",
      "\u001b[1;31mIndexError\u001b[0m: index 2 is out of bounds for axis 0 with size 2"
     ]
    }
   ],
   "source": [
    "#useful reference\n",
    "#http://machinelearninguru.com/deep_learning/data_preparation/hdf5/hdf5.html\n"
   ]
  },
  {
   "cell_type": "code",
   "execution_count": 14,
   "metadata": {},
   "outputs": [
    {
     "data": {
      "text/plain": [
       "{'img': array([500, 500,   3]), 'mask': array([500, 500,   3])}"
      ]
     },
     "execution_count": 14,
     "metadata": {},
     "output_type": "execute_result"
    }
   ],
   "source": [
    "pad_shape\n",
    "block_shape"
   ]
  },
  {
   "cell_type": "code",
   "execution_count": 26,
   "metadata": {},
   "outputs": [
    {
     "data": {
      "text/plain": [
       "(120, 500, 500, 3)"
      ]
     },
     "execution_count": 26,
     "metadata": {},
     "output_type": "execute_result"
    }
   ],
   "source": [
    "io_arr_out[\"mask\"].shape"
   ]
  },
  {
   "cell_type": "code",
   "execution_count": 24,
   "metadata": {},
   "outputs": [
    {
     "data": {
      "text/plain": [
       "[]"
      ]
     },
     "execution_count": 24,
     "metadata": {},
     "output_type": "execute_result"
    }
   ],
   "source": [
    "err_report"
   ]
  },
  {
   "cell_type": "code",
   "execution_count": null,
   "metadata": {},
   "outputs": [],
   "source": []
  }
 ],
 "metadata": {
  "kernelspec": {
   "display_name": "Python 3",
   "language": "python",
   "name": "python3"
  },
  "language_info": {
   "codemirror_mode": {
    "name": "ipython",
    "version": 3
   },
   "file_extension": ".py",
   "mimetype": "text/x-python",
   "name": "python",
   "nbconvert_exporter": "python",
   "pygments_lexer": "ipython3",
   "version": "3.6.7"
  }
 },
 "nbformat": 4,
 "nbformat_minor": 2
}
