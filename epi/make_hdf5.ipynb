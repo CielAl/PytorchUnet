{
 "cells": [
  {
   "cell_type": "code",
   "execution_count": 1,
   "metadata": {},
   "outputs": [
    {
     "name": "stdout",
     "output_type": "stream",
     "text": [
      "random seed (note down for reproducibility): 984757887166951114\n"
     ]
    }
   ],
   "source": [
    "import torch\n",
    "import tables\n",
    "import os,sys\n",
    "import glob\n",
    "import PIL\n",
    "import numpy as np\n",
    "import cv2\n",
    "import matplotlib.pyplot as plt\n",
    "from sklearn import model_selection\n",
    "import sklearn.feature_extraction.image\n",
    "import random\n",
    "\n",
    "\n",
    "seed = random.randrange(sys.maxsize) #get a random seed so that we can reproducibly do the cross validation setup\n",
    "random.seed(seed) # set the seed\n",
    "print(f\"random seed (note down for reproducibility): {seed}\")"
   ]
  },
  {
   "cell_type": "code",
   "execution_count": 2,
   "metadata": {},
   "outputs": [
    {
     "name": "stdout",
     "output_type": "stream",
     "text": [
      "Y:\\home\\yxz1826\\Skin\\tiles\\8_tile Y:\\home\\yxz1826\\Skin\\tiles\\\\8_mask E:\\pytable\n"
     ]
    }
   ],
   "source": [
    "\n",
    "\n",
    "\n",
    "\n",
    "targetMag = 8\n",
    "#17S050572_1A_L12 - 2018-03-20 13.09.26.ndpi Masked out because of too large to be saved in mag=8\n",
    "baseMag = 20\n",
    "file_ext= \".png\"\n",
    "mask_ext = \".png\"\n",
    "mask_pattern = \"*\"\n",
    "\n",
    "#imgdir = f\"/home/yxz1826/downsampled/{targetMag}_group\"\n",
    "#maskroot = '/Skin/QupathOut/multi_mag'\n",
    "\n",
    "#maskdir = maskroot+f\"/{targetMag:.1f}/\"\n",
    "#pytable_root = '/mnt/ccipd_home/yxz1826/Skin/pytable'\n",
    "\n",
    "imgdir = f\"Y:\\\\home\\\\yxz1826\\\\Skin\\\\tiles\\\\{targetMag:.0f}_tile\"\n",
    "maskroot = 'Y:\\\\home\\\\yxz1826\\\\Skin\\\\tiles\\\\'\n",
    "maskdir = maskroot+f\"\\\\{targetMag:.0f}_mask\"\n",
    "pytable_root = 'E:\\\\pytable'\n",
    "print(imgdir,maskdir,pytable_root)"
   ]
  },
  {
   "cell_type": "code",
   "execution_count": 3,
   "metadata": {},
   "outputs": [
    {
     "name": "stdout",
     "output_type": "stream",
     "text": [
      "melanoma_png_8\n"
     ]
    }
   ],
   "source": [
    "dataname=\"melanoma_png\"+\"_\"+str(targetMag)\n",
    "patch_size=500 #size of the tiles to extract and save in the database, must be >= to training size\n",
    "test_set_size=.1 # what percentage of the dataset should be used as a held out validation/testing set\n",
    "classes=[0,1,2,3] #what classes we expect to have in the data, here we have only 2 classes but we could add additional classes and/or specify an index from which we would like to ignore\n",
    "\n",
    "stride_size=250\n",
    "mirror_pad_size=250\n",
    "resize = 1.\n",
    "print(dataname)"
   ]
  },
  {
   "cell_type": "code",
   "execution_count": 4,
   "metadata": {},
   "outputs": [],
   "source": [
    "img_dtype = tables.UInt8Atom()  # dtype in which the images will be saved, this indicates that images will be saved as unsigned int 8 bit, i.e., [0,255]\n",
    "filenameAtom = tables.StringAtom(itemsize=255) #create an atom to store the filename of the image, just incase we need it later, "
   ]
  },
  {
   "cell_type": "code",
   "execution_count": 5,
   "metadata": {},
   "outputs": [
    {
     "name": "stdout",
     "output_type": "stream",
     "text": [
      "777\n"
     ]
    }
   ],
   "source": [
    "maskpattern = maskdir+'\\\\'+mask_pattern+mask_ext\n",
    "files=glob.glob(maskpattern) # create a list of the files, in this case we're only interested in files which have masks so we can use supervised learning\n",
    "\n",
    "#create training and validation stages and split the files appropriately between them\n",
    "phases={}\n",
    "phases[\"train\"],phases[\"val\"]=next(iter(model_selection.ShuffleSplit(n_splits=10,test_size=test_set_size).split(files)))\n",
    "\n",
    "#specify that we'll be saving 2 different image types to the database, an image and its associated masked\n",
    "imgtypes=[\"img\",\"mask\"]\n",
    "print(len(files))"
   ]
  },
  {
   "cell_type": "code",
   "execution_count": 6,
   "metadata": {},
   "outputs": [],
   "source": [
    "from tqdm import tqdm\n",
    "import readslide\n",
    "from readslide import getThumbByMag\n",
    "from readslide import ndpiAdaptor\n",
    "from readslide import pngAdaptor\n",
    "import traceback"
   ]
  },
  {
   "cell_type": "code",
   "execution_count": 7,
   "metadata": {},
   "outputs": [],
   "source": [
    "def defaultIOAdaptor(imgtype,imgdir,fname,file_ext,classes,mags,totals):\n",
    "    if(imgtype==\"img\"): #if we're looking at an img, it must be 3 channel, but cv2 won't load it in the correct channel order, so we need to fix that\n",
    "        io=cv2.cvtColor(cv2.imread(\"./imgs/\"+os.path.basename(fname).replace(\"_mask.png\",file_ext)),cv2.COLOR_BGR2RGB)\n",
    "        interp_method=PIL.Image.BICUBIC\n",
    "\n",
    "    else: #if its a mask image, then we only need a single channel (since grayscale 3D images are equal in all channels)\n",
    "        io=cv2.imread(fname)/255 #the image is loaded as {0,255}, but we'd like to store it as {0,1} since this represents the binary nature of the mask easier\n",
    "        interp_method=PIL.Image.NEAREST #want to use nearest! otherwise resizing may cause non-existing classes to be produced via interpolation (e.g., \".25\")\n",
    "\n",
    "        for i,key in enumerate(classes): #sum the number of pixels, this is done pre-resize, the but proportions don't change which is really what we're after\n",
    "            totals[1,i]+=sum(sum(io[:,:,0]==key))    \n",
    "    return io"
   ]
  },
  {
   "cell_type": "code",
   "execution_count": 16,
   "metadata": {
    "scrolled": true
   },
   "outputs": [
    {
     "name": "stdout",
     "output_type": "stream",
     "text": [
      "train\n"
     ]
    },
    {
     "name": "stderr",
     "output_type": "stream",
     "text": [
      "\r",
      "  0%|                                                                                          | 0/699 [00:00<?, ?it/s]"
     ]
    },
    {
     "name": "stdout",
     "output_type": "stream",
     "text": [
      "1\n"
     ]
    },
    {
     "name": "stderr",
     "output_type": "stream",
     "text": [
      "\r",
      "  0%|                                                                                  | 1/699 [00:00<11:27,  1.01it/s]"
     ]
    },
    {
     "name": "stdout",
     "output_type": "stream",
     "text": [
      "1\n"
     ]
    },
    {
     "name": "stderr",
     "output_type": "stream",
     "text": [
      "\r",
      "  0%|▏                                                                                 | 2/699 [00:02<12:38,  1.09s/it]"
     ]
    },
    {
     "name": "stdout",
     "output_type": "stream",
     "text": [
      "1\n"
     ]
    },
    {
     "name": "stderr",
     "output_type": "stream",
     "text": [
      "\r",
      "  0%|▎                                                                                 | 3/699 [00:03<12:26,  1.07s/it]"
     ]
    },
    {
     "name": "stdout",
     "output_type": "stream",
     "text": [
      "1\n"
     ]
    },
    {
     "name": "stderr",
     "output_type": "stream",
     "text": [
      "\r",
      "  1%|▍                                                                                 | 4/699 [00:03<09:45,  1.19it/s]"
     ]
    },
    {
     "name": "stdout",
     "output_type": "stream",
     "text": [
      "1\n"
     ]
    },
    {
     "name": "stderr",
     "output_type": "stream",
     "text": [
      "\r",
      "  1%|▌                                                                                 | 5/699 [00:05<12:21,  1.07s/it]"
     ]
    },
    {
     "name": "stdout",
     "output_type": "stream",
     "text": [
      "1\n"
     ]
    },
    {
     "name": "stderr",
     "output_type": "stream",
     "text": [
      "\n"
     ]
    },
    {
     "ename": "KeyboardInterrupt",
     "evalue": "",
     "output_type": "error",
     "traceback": [
      "\u001b[1;31m---------------------------------------------------------------------------\u001b[0m",
      "\u001b[1;31mKeyboardInterrupt\u001b[0m                         Traceback (most recent call last)",
      "\u001b[1;32m<ipython-input-16-fab6ba553bbf>\u001b[0m in \u001b[0;36m<module>\u001b[1;34m\u001b[0m\n\u001b[0;32m     61\u001b[0m         \u001b[1;32mif\u001b[0m \u001b[1;33m(\u001b[0m\u001b[0msucceed\u001b[0m\u001b[1;33m)\u001b[0m\u001b[1;33m:\u001b[0m\u001b[1;33m\u001b[0m\u001b[1;33m\u001b[0m\u001b[0m\n\u001b[0;32m     62\u001b[0m             \u001b[0mprint\u001b[0m\u001b[1;33m(\u001b[0m\u001b[1;36m1\u001b[0m\u001b[1;33m)\u001b[0m\u001b[1;33m\u001b[0m\u001b[1;33m\u001b[0m\u001b[0m\n\u001b[1;32m---> 63\u001b[1;33m             \u001b[0mstorage\u001b[0m\u001b[1;33m[\u001b[0m\u001b[1;34m\"img\"\u001b[0m\u001b[1;33m]\u001b[0m\u001b[1;33m.\u001b[0m\u001b[0mappend\u001b[0m\u001b[1;33m(\u001b[0m\u001b[0mio_arr_out\u001b[0m\u001b[1;33m[\u001b[0m\u001b[1;34m\"img\"\u001b[0m\u001b[1;33m]\u001b[0m\u001b[1;33m)\u001b[0m\u001b[1;33m\u001b[0m\u001b[1;33m\u001b[0m\u001b[0m\n\u001b[0m\u001b[0;32m     64\u001b[0m             \u001b[0mstorage\u001b[0m\u001b[1;33m[\u001b[0m\u001b[1;34m\"mask\"\u001b[0m\u001b[1;33m]\u001b[0m\u001b[1;33m.\u001b[0m\u001b[0mappend\u001b[0m\u001b[1;33m(\u001b[0m\u001b[0mio_arr_out\u001b[0m\u001b[1;33m[\u001b[0m\u001b[1;34m\"mask\"\u001b[0m\u001b[1;33m]\u001b[0m\u001b[1;33m[\u001b[0m\u001b[1;33m:\u001b[0m\u001b[1;33m,\u001b[0m\u001b[1;33m:\u001b[0m\u001b[1;33m,\u001b[0m\u001b[1;33m:\u001b[0m\u001b[1;33m,\u001b[0m\u001b[1;36m0\u001b[0m\u001b[1;33m]\u001b[0m\u001b[1;33m.\u001b[0m\u001b[0msqueeze\u001b[0m\u001b[1;33m(\u001b[0m\u001b[1;33m)\u001b[0m\u001b[1;33m)\u001b[0m \u001b[1;31m#only need 1 channel for mask data\u001b[0m\u001b[1;33m\u001b[0m\u001b[1;33m\u001b[0m\u001b[0m\n\u001b[0;32m     65\u001b[0m             \u001b[0mstorage\u001b[0m\u001b[1;33m[\u001b[0m\u001b[1;34m\"filename\"\u001b[0m\u001b[1;33m]\u001b[0m\u001b[1;33m.\u001b[0m\u001b[0mappend\u001b[0m\u001b[1;33m(\u001b[0m\u001b[1;33m[\u001b[0m\u001b[0mfname\u001b[0m \u001b[1;32mfor\u001b[0m \u001b[0mx\u001b[0m \u001b[1;32min\u001b[0m \u001b[0mrange\u001b[0m\u001b[1;33m(\u001b[0m\u001b[0mio_arr_out\u001b[0m\u001b[1;33m[\u001b[0m\u001b[0mimgtype\u001b[0m\u001b[1;33m]\u001b[0m\u001b[1;33m.\u001b[0m\u001b[0mshape\u001b[0m\u001b[1;33m[\u001b[0m\u001b[1;36m0\u001b[0m\u001b[1;33m]\u001b[0m\u001b[1;33m)\u001b[0m\u001b[1;33m]\u001b[0m\u001b[1;33m)\u001b[0m \u001b[1;31m#add the filename to the storage array\u001b[0m\u001b[1;33m\u001b[0m\u001b[1;33m\u001b[0m\u001b[0m\n",
      "\u001b[1;32mc:\\program files\\python\\lib\\site-packages\\tables\\earray.py\u001b[0m in \u001b[0;36mappend\u001b[1;34m(self, sequence)\u001b[0m\n\u001b[0;32m    222\u001b[0m         \u001b[1;31m# If the size of the nparr is zero, don't do anything else\u001b[0m\u001b[1;33m\u001b[0m\u001b[1;33m\u001b[0m\u001b[1;33m\u001b[0m\u001b[0m\n\u001b[0;32m    223\u001b[0m         \u001b[1;32mif\u001b[0m \u001b[0mnparr\u001b[0m\u001b[1;33m.\u001b[0m\u001b[0msize\u001b[0m \u001b[1;33m>\u001b[0m \u001b[1;36m0\u001b[0m\u001b[1;33m:\u001b[0m\u001b[1;33m\u001b[0m\u001b[1;33m\u001b[0m\u001b[0m\n\u001b[1;32m--> 224\u001b[1;33m             \u001b[0mself\u001b[0m\u001b[1;33m.\u001b[0m\u001b[0m_append\u001b[0m\u001b[1;33m(\u001b[0m\u001b[0mnparr\u001b[0m\u001b[1;33m)\u001b[0m\u001b[1;33m\u001b[0m\u001b[1;33m\u001b[0m\u001b[0m\n\u001b[0m\u001b[0;32m    225\u001b[0m \u001b[1;33m\u001b[0m\u001b[0m\n\u001b[0;32m    226\u001b[0m     def _g_copy_with_stats(self, group, name, start, stop, step,\n",
      "\u001b[1;31mKeyboardInterrupt\u001b[0m: "
     ]
    }
   ],
   "source": [
    "#\n",
    "imageIOAdaptor = pngAdaptor;\n",
    "storage={} #holder for future pytables\n",
    "err_report = []\n",
    "h5_debug = {}\n",
    "block_shape={} #block shape specifies what we'll be saving into the pytable array, here we assume that masks are 1d and images are 3d\n",
    "block_shape[\"img\"]= np.array((patch_size,patch_size,3))\n",
    "block_shape[\"mask\"]= np.array((patch_size,patch_size))  # the output for both imgtypes has 3 channels here\n",
    "patch_shape={}\n",
    "patch_shape['img']=(patch_size,patch_size,3)\n",
    "patch_shape['mask']=(patch_size,patch_size,3)\n",
    "\n",
    "filters=tables.Filters(complevel=6, complib='zlib') #we can also specify filters, such as compression, to improve storage speed\n",
    "interpolation  = {}\n",
    "interpolation['img'] = PIL.Image.BICUBIC\n",
    "interpolation['mask'] = PIL.Image.NEAREST\n",
    "pad_shape = {}\n",
    "pad_shape['img'] =  [(mirror_pad_size, mirror_pad_size), (mirror_pad_size, mirror_pad_size), (0, 0)]\n",
    "pad_shape['mask'] =  [(mirror_pad_size, mirror_pad_size), (mirror_pad_size, mirror_pad_size),(0,0)]\n",
    "\n",
    "for phase in phases.keys(): #now for each of the phases, we'll loop through the files\n",
    "    print(phase)\n",
    "    \n",
    "    totals=np.zeros((2,len(classes))) # we can to keep counts of all the classes in for in particular training, since we \n",
    "    totals[0,:]=classes               # can later use this information to create better weights\n",
    "\n",
    "    hdf5_file = tables.open_file(f\"{pytable_root}/{dataname}_{phase}.pytable\", mode='w') #open the respective pytable\n",
    "    h5_debug[phase] = hdf5_file\n",
    "    storage[\"filename\"] = hdf5_file.create_earray(hdf5_file.root, 'filename', filenameAtom, (0,)) #create the array for storage\n",
    "    \n",
    "    for imgtype in imgtypes: #for each of the image types, in this case mask and image, we need to create the associated earray\n",
    "        storage[imgtype]= hdf5_file.create_earray(hdf5_file.root, imgtype, img_dtype,  \n",
    "                                                  shape=np.append([0],block_shape[imgtype]), \n",
    "                                                  chunkshape=np.append([1],block_shape[imgtype]),\n",
    "                                                  filters=filters)\n",
    "    io_arr_out = {}\n",
    "    for filei in tqdm(phases[phase]): #now for each of the files\n",
    "        fname=files[filei] \n",
    "        \n",
    "        \n",
    "        succeed = True;\n",
    "        try:\n",
    "            for imgtype in imgtypes:\n",
    "                #read image\n",
    "                io = imageIOAdaptor(imgtype,imgdir,fname,file_ext,classes,(targetMag,baseMag),totals)\n",
    "                interp_method = interpolation[imgtype]\n",
    "                io = cv2.resize(io,(0,0),fx=resize,fy=resize, interpolation=interp_method) #resize it as specified above\n",
    "                io = np.pad(io,pad_shape[imgtype],mode=\"reflect\")\n",
    "\n",
    "                #convert input image into overlapping tiles, size is ntiler x ntilec x 1 x patch_size x patch_size x3\n",
    "                io_arr_out[imgtype]=sklearn.feature_extraction.image.extract_patches(io,patch_shape[imgtype],stride_size)\n",
    "\n",
    "                #resize it into a ntile x patch_size x patch_size x 3\n",
    "                io_arr_out[imgtype]=io_arr_out[imgtype].reshape(-1,patch_size,patch_size,3)\n",
    "                succeed = True;    \n",
    "        except Exception as e:\n",
    "                succeed = False; \n",
    "                raise e\n",
    "                #err_report.append((phase,fname,imgtype,str(e),traceback.extract_stack()))\n",
    "            #save the 4D tensor to the table\n",
    "        if (succeed):\n",
    "            print(1)\n",
    "            storage[\"img\"].append(io_arr_out[\"img\"])\n",
    "            storage[\"mask\"].append(io_arr_out[\"mask\"][:,:,:,0].squeeze()) #only need 1 channel for mask data\n",
    "            storage[\"filename\"].append([fname for x in range(io_arr_out[imgtype].shape[0])]) #add the filename to the storage array\n",
    "        else:\n",
    "            pass\n",
    "            print(\"skip:\",err_report[-1])\n",
    "    #lastely, we should store the number of pixels\n",
    "    npixels=hdf5_file.create_carray(hdf5_file.root, 'numpixels', tables.Atom.from_dtype(totals.dtype), totals.shape)\n",
    "    npixels[:]=totals\n",
    "    hdf5_file.close()"
   ]
  },
  {
   "cell_type": "code",
   "execution_count": null,
   "metadata": {},
   "outputs": [],
   "source": [
    "sklearn.feature_extraction.image.extract_patches(io,(patch_size,patch_size,None,3),stride_size)"
   ]
  },
  {
   "cell_type": "code",
   "execution_count": null,
   "metadata": {},
   "outputs": [],
   "source": [
    "err_report"
   ]
  },
  {
   "cell_type": "code",
   "execution_count": 15,
   "metadata": {},
   "outputs": [],
   "source": [
    "hdf5_file.close()"
   ]
  },
  {
   "cell_type": "code",
   "execution_count": 13,
   "metadata": {},
   "outputs": [
    {
     "ename": "NameError",
     "evalue": "name 'key' is not defined",
     "output_type": "error",
     "traceback": [
      "\u001b[1;31m---------------------------------------------------------------------------\u001b[0m",
      "\u001b[1;31mNameError\u001b[0m                                 Traceback (most recent call last)",
      "\u001b[1;32m<ipython-input-13-b8bf9bb2bcfa>\u001b[0m in \u001b[0;36m<module>\u001b[1;34m\u001b[0m\n\u001b[0;32m      1\u001b[0m \u001b[1;31m#useful reference\u001b[0m\u001b[1;33m\u001b[0m\u001b[1;33m\u001b[0m\u001b[1;33m\u001b[0m\u001b[0m\n\u001b[0;32m      2\u001b[0m \u001b[1;31m#http://machinelearninguru.com/deep_learning/data_preparation/hdf5/hdf5.html\u001b[0m\u001b[1;33m\u001b[0m\u001b[1;33m\u001b[0m\u001b[1;33m\u001b[0m\u001b[0m\n\u001b[1;32m----> 3\u001b[1;33m \u001b[0msum\u001b[0m\u001b[1;33m(\u001b[0m\u001b[0msum\u001b[0m\u001b[1;33m(\u001b[0m\u001b[0mio\u001b[0m\u001b[1;33m==\u001b[0m\u001b[0mkey\u001b[0m\u001b[1;33m)\u001b[0m\u001b[1;33m)\u001b[0m\u001b[1;33m\u001b[0m\u001b[1;33m\u001b[0m\u001b[0m\n\u001b[0m",
      "\u001b[1;31mNameError\u001b[0m: name 'key' is not defined"
     ]
    }
   ],
   "source": [
    "#useful reference\n",
    "#http://machinelearninguru.com/deep_learning/data_preparation/hdf5/hdf5.html\n",
    "sum(sum(io==key))"
   ]
  },
  {
   "cell_type": "code",
   "execution_count": 14,
   "metadata": {},
   "outputs": [
    {
     "data": {
      "text/plain": [
       "{'img': array([500, 500,   3]), 'mask': array([500, 500,   3])}"
      ]
     },
     "execution_count": 14,
     "metadata": {},
     "output_type": "execute_result"
    }
   ],
   "source": [
    "pad_shape\n",
    "block_shape"
   ]
  },
  {
   "cell_type": "code",
   "execution_count": 13,
   "metadata": {},
   "outputs": [
    {
     "data": {
      "text/plain": [
       "(25, 500, 500)"
      ]
     },
     "execution_count": 13,
     "metadata": {},
     "output_type": "execute_result"
    }
   ],
   "source": [
    "io_arr_out[\"mask\"][:,:,:,0].squeeze().shape"
   ]
  },
  {
   "cell_type": "code",
   "execution_count": null,
   "metadata": {},
   "outputs": [],
   "source": []
  }
 ],
 "metadata": {
  "kernelspec": {
   "display_name": "Python 3",
   "language": "python",
   "name": "python3"
  },
  "language_info": {
   "codemirror_mode": {
    "name": "ipython",
    "version": 3
   },
   "file_extension": ".py",
   "mimetype": "text/x-python",
   "name": "python",
   "nbconvert_exporter": "python",
   "pygments_lexer": "ipython3",
   "version": "3.6.7"
  }
 },
 "nbformat": 4,
 "nbformat_minor": 2
}
