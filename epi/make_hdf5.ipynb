{
 "cells": [
  {
   "cell_type": "code",
   "execution_count": null,
   "metadata": {},
   "outputs": [],
   "source": [
    "#v1\n",
    "#26/10/2018\n",
    "\n",
    "dataname=\"epistroma\"\n",
    "patch_size=500 #size of the tiles to extract and save in the database, must be >= to training size\n",
    "test_set_size=.1 # what percentage of the dataset should be used as a held out validation/testing set\n",
    "resize=1 #resize input images\n",
    "classes=[0,1] #what classes we expect to have in the data, here we have only 2 classes but we could add additional classes and/or specify an index from which we would like to ignore"
   ]
  },
  {
   "cell_type": "code",
   "execution_count": null,
   "metadata": {},
   "outputs": [],
   "source": [
    "import torch\n",
    "import tables\n",
    "\n",
    "import os,sys\n",
    "import glob\n",
    "\n",
    "import PIL\n",
    "import numpy as np\n",
    "from numpy.lib.stride_tricks import as_strided\n",
    "\n",
    "import cv2\n",
    "import matplotlib.pyplot as plt\n",
    "\n",
    "from sklearn import cross_validation\n",
    "import random\n",
    "\n",
    "\n",
    "seed = random.randrange(sys.maxsize) #get a random seed so that we can reproducibly do the cross validation setup\n",
    "random.seed(seed) # set the seed\n",
    "print(f\"random seed (note down for reproducibility): {seed}\")"
   ]
  },
  {
   "cell_type": "code",
   "execution_count": null,
   "metadata": {},
   "outputs": [],
   "source": [
    "img_dtype = tables.UInt8Atom()  # dtype in which the images will be saved, this indicates that images will be saved as unsigned int 8 bit, i.e., [0,255]\n",
    "filenameAtom = tables.StringAtom(itemsize=255) #create an atom to store the filename of the image, just incase we need it later, "
   ]
  },
  {
   "cell_type": "code",
   "execution_count": null,
   "metadata": {},
   "outputs": [],
   "source": [
    "files=glob.glob('masks/*.png') # create a list of the files, in this case we're only interested in files which have masks so we can use supervised learning\n",
    "\n",
    "#create training and validation stages and split the files appropriately between them\n",
    "phases={}\n",
    "phases[\"train\"],phases[\"val\"]=next(iter(cross_validation.ShuffleSplit(n=len(files),n_iter=1,test_size=test_set_size)))\n",
    "\n",
    "#specify that we'll be saving 2 different image types to the database, an image and its associated masked\n",
    "imgtypes=[\"img\",\"mask\"]"
   ]
  },
  {
   "cell_type": "code",
   "execution_count": null,
   "metadata": {
    "scrolled": true
   },
   "outputs": [],
   "source": [
    "storage={} #holder for future pytables\n",
    "\n",
    "block_shape={} #block shape specifies what we'll be saving into the pytable array, here we assume that masks are 1d and images are 3d\n",
    "block_shape[\"img\"]= np.array((patch_size,patch_size,3))\n",
    "block_shape[\"mask\"]= np.array((patch_size,patch_size)) \n",
    "\n",
    "filters=tables.Filters(complevel=6, complib='zlib') #we can also specify filters, such as compression, to improve storage speed\n",
    "\n",
    "\n",
    "for phase in phases.keys(): #now for each of the phases, we'll loop through the files\n",
    "    print(phase)\n",
    "    \n",
    "    totals=np.zeros((2,len(classes))) # we can to keep counts of all the classes in for in particular training, since we \n",
    "    totals[0,:]=classes               # can later use this information to create better weights\n",
    "\n",
    "    hdf5_file = tables.open_file(f\"./{dataname}_{phase}.pytable\", mode='w') #open the respective pytable\n",
    "    storage[\"filename\"] = hdf5_file.create_earray(hdf5_file.root, 'fname', filenameAtom, (0,)) #create the array for storage\n",
    "    \n",
    "    for imgtype in imgtypes: #for each of the image types, in this case mask and image, we need to create the associated earray\n",
    "        storage[imgtype]= hdf5_file.create_earray(hdf5_file.root, imgtype, img_dtype,  \n",
    "                                                  shape=np.append([0],block_shape[imgtype]), \n",
    "                                                  chunkshape=np.append([1],block_shape[imgtype]),\n",
    "                                                  filters=filters)\n",
    "    \n",
    "    for filei in phases[phase]: #now for each of the files\n",
    "        fname=files[filei] \n",
    "        storage[\"filename\"].append([fname]) #add the filename to the storage array\n",
    "        print(fname)\n",
    "        for imgtype in imgtypes:\n",
    "            if(imgtype==\"img\"): #if we're looking at an img, it must be 3 channel, but cv2 won't load it in the correct channel order, so we need to fix that\n",
    "                io=cv2.cvtColor(cv2.imread(\"./imgs/\"+os.path.basename(fname).replace(\"_mask.png\",\".tif\")),cv2.COLOR_BGR2RGB)\n",
    "                interp_method=PIL.Image.BICUBIC\n",
    "                \n",
    "            else: #if its a mask image, then we only need a single channel (since grayscale 3D images are equal in all channels)\n",
    "                io=cv2.imread(fname)[:,:,0]/255 #the image is loaded as {0,255}, but we'd like to store it as {0,1} since this represents the binary nature of the mask easier\n",
    "                interp_method=PIL.Image.NEAREST #want to use nearest! otherwise resizing may cause non-existing classes to be produced via interpolation (e.g., \".25\")\n",
    "                \n",
    "                for i,key in enumerate(classes): #sum the number of pixels, this is done pre-resize, the but proportions don't change which is really what we're after\n",
    "                    totals[1,i]+=sum(sum(io==key))\n",
    "\n",
    "            \n",
    "            io = cv2.resize(io,(0,0),fx=resize,fy=resize, interpolation=interp_method) #resize it as specified above\n",
    "            io_shape = np.array(io.shape) #get the final shape\n",
    "            \n",
    "            #the code below chops up the image into tiles of the appropriate shape, resulting in a 4D tensor\n",
    "            #this code could be improved to take more samples, for example with a stride of 1/2 of the tile size to better cover the data\n",
    "            new_shape = tuple(io_shape  // block_shape[imgtype]) + tuple(block_shape[imgtype])\n",
    "            new_strides = tuple(io.strides * block_shape[imgtype]) + io.strides\n",
    "\n",
    "            io_arr_out = as_strided(io, shape=new_shape, strides=new_strides)\n",
    "\n",
    "            io_arr_out=io_arr_out.reshape(np.append([-1],block_shape[imgtype]))\n",
    "            #save the 4D tensor to the table\n",
    "            storage[imgtype].append(io_arr_out)\n",
    "\n",
    "    #lastely, we should store the number of pixels\n",
    "    npixels=hdf5_file.create_carray(hdf5_file.root, 'numpixels', tables.Atom.from_dtype(totals.dtype), totals.shape)\n",
    "    npixels[:]=totals\n",
    "    hdf5_file.close()"
   ]
  },
  {
   "cell_type": "code",
   "execution_count": null,
   "metadata": {},
   "outputs": [],
   "source": [
    "#useful reference\n",
    "#http://machinelearninguru.com/deep_learning/data_preparation/hdf5/hdf5.html\n"
   ]
  },
  {
   "cell_type": "code",
   "execution_count": null,
   "metadata": {},
   "outputs": [],
   "source": []
  }
 ],
 "metadata": {
  "kernelspec": {
   "display_name": "Python 3",
   "language": "python",
   "name": "python3"
  },
  "language_info": {
   "codemirror_mode": {
    "name": "ipython",
    "version": 3
   },
   "file_extension": ".py",
   "mimetype": "text/x-python",
   "name": "python",
   "nbconvert_exporter": "python",
   "pygments_lexer": "ipython3",
   "version": "3.7.0"
  }
 },
 "nbformat": 4,
 "nbformat_minor": 2
}
