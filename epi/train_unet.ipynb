{
 "cells": [
  {
   "cell_type": "code",
   "execution_count": 1,
   "metadata": {},
   "outputs": [],
   "source": [
    "#v1\n",
    "#26/10/2018\n",
    "\n",
    "dataname=\"melanoma_png_8\"\n",
    "#pytable_root = '/mnt/ccipd_home/yxz1826/Skin/pytable'\n",
    "pytable_root = \"C:\\\\pytable\"\n",
    "\n",
    "ignore_index = 0    #Unet has the possibility of masking out pixels in the output image, we can specify the index value here (though not used)\n",
    "gpuid=0\n",
    "\n",
    "# --- unet params\n",
    "#these parameters get fed directly into the UNET class, and more description of them can be discovered there\n",
    "n_classes= 4    #number of classes in the data mask that we'll aim to predict\n",
    "in_channels= 3  #input channel of the data, RGB = 3\n",
    "padding= True   #should levels be padded\n",
    "depth= 3       #depth of the network \n",
    "wf= 4           #wf (int): number of filters in the first layer is 2**wf\n",
    "up_mode= 'upconv' #should we simply upsample the mask, or should we try and learn an interpolation \n",
    "batch_norm = True #should we use batch normalization between the layers\n",
    "\n",
    "# --- training params\n",
    "batch_size=10\n",
    "patch_size=256\n",
    "num_epochs = 100\n",
    "edge_weight = 1.1 #edges tend to be the most poorly segmented given how little area they occupy in the training set, this paramter boosts their values along the lines of the original UNET paper\n",
    "phases = [\"train\",\"val\"] #how many phases did we create databases for?\n",
    "validation_phases= [\"val\"] #when should we do valiation? note that validation is time consuming, so as opposed to doing for both training and validation, we do it only for vlaidation at the end of the epoch\n"
   ]
  },
  {
   "cell_type": "code",
   "execution_count": 2,
   "metadata": {},
   "outputs": [],
   "source": [
    "import torch\n",
    "from torch import nn\n",
    "import torch.nn.functional as F\n",
    "from torch.utils.data import DataLoader\n",
    "from torchvision import transforms\n",
    "from tqdm import tqdm\n",
    "from unet import UNet #code borrowed from https://github.com/jvanvugt/pytorch-unet\n",
    "\n",
    "import PIL\n",
    "import matplotlib.pyplot as plt\n",
    "import cv2\n",
    "\n",
    "import numpy as np\n",
    "import sys, glob\n",
    "\n",
    "import scipy.ndimage\n",
    "\n",
    "from tensorboardX import SummaryWriter\n",
    "\n",
    "import time\n",
    "import math\n",
    "import tables\n",
    "\n",
    "import random\n",
    "\n",
    "from sklearn.metrics import confusion_matrix"
   ]
  },
  {
   "cell_type": "code",
   "execution_count": 3,
   "metadata": {},
   "outputs": [],
   "source": [
    "#helper function for pretty printing of current time and remaining time\n",
    "def asMinutes(s):\n",
    "    m = math.floor(s / 60)\n",
    "    s -= m * 60\n",
    "    return '%dm %ds' % (m, s)\n",
    "def timeSince(since, percent):\n",
    "    now = time.time()\n",
    "    s = now - since\n",
    "    es = s / (percent+.00001)\n",
    "    rs = es - s\n",
    "    return '%s (- %s)' % (asMinutes(s), asMinutes(rs))"
   ]
  },
  {
   "cell_type": "code",
   "execution_count": 4,
   "metadata": {},
   "outputs": [
    {
     "name": "stdout",
     "output_type": "stream",
     "text": [
      "_CudaDeviceProperties(name='GeForce GTX 1080 Ti', major=6, minor=1, total_memory=11264MB, multi_processor_count=28)\n"
     ]
    }
   ],
   "source": [
    "#specify if we should use a GPU (cuda) or only the CPU\n",
    "print(torch.cuda.get_device_properties(gpuid))\n",
    "torch.cuda.set_device(gpuid)\n",
    "device = torch.device(f'cuda:{gpuid}' if torch.cuda.is_available() else 'cpu')"
   ]
  },
  {
   "cell_type": "code",
   "execution_count": 5,
   "metadata": {
    "scrolled": true
   },
   "outputs": [
    {
     "name": "stdout",
     "output_type": "stream",
     "text": [
      "total params: \t117732\n"
     ]
    }
   ],
   "source": [
    "#build the model according to the paramters specified above and copy it to the GPU. finally print out the number of trainable parameters\n",
    "model = UNet(n_classes=n_classes, in_channels=in_channels, padding=padding,depth=depth,wf=wf, up_mode=up_mode, batch_norm=batch_norm).to(device)\n",
    "print(f\"total params: \\t{sum([np.prod(p.size()) for p in model.parameters()])}\")"
   ]
  },
  {
   "cell_type": "code",
   "execution_count": 6,
   "metadata": {},
   "outputs": [],
   "source": [
    "#this defines our dataset class which will be used by the dataloader\n",
    "class Dataset(object):\n",
    "    def __init__(self, fname ,img_transform=None, mask_transform = None, edge_weight= False):\n",
    "        #nothing special here, just internalizing the constructor parameters\n",
    "        self.fname=fname\n",
    "        self.edge_weight = edge_weight\n",
    "        \n",
    "        self.img_transform=img_transform\n",
    "        self.mask_transform = mask_transform\n",
    "        \n",
    "        self.tables=tables.open_file(self.fname)\n",
    "        self.numpixels=self.tables.root.numpixels[:]\n",
    "        #print(self.fname)\n",
    "        self.nitems=self.tables.root.img.shape[0]\n",
    "        self.tables.close()\n",
    "        \n",
    "        self.img = None\n",
    "        self.mask = None\n",
    "    def __getitem__(self, index):\n",
    "        #opening should be done in __init__ but seems to be\n",
    "        #an issue with multithreading so doing here\n",
    "        if(self.img is None): #open in thread\n",
    "            self.tables=tables.open_file(self.fname)\n",
    "            self.img=self.tables.root.img\n",
    "            self.mask=self.tables.root.mask\n",
    "       \n",
    "        #get the requested image and mask from the pytable\n",
    "        img = self.img[index,:,:,:]\n",
    "        mask = self.mask[index,:,:]\n",
    "        \n",
    "        #the original Unet paper assignes increased weights to the edges of the annotated objects\n",
    "        #their method is more sophistocated, but this one is faster, we simply dilate the mask and \n",
    "        #highlight all the pixels which were \"added\"\n",
    "        if(self.edge_weight):\n",
    "            weight = scipy.ndimage.morphology.binary_dilation(mask==1, iterations =2) & ~mask\n",
    "        else: #otherwise the edge weight is all ones and thus has no affect\n",
    "            weight = np.ones(mask.shape,dtype=mask.dtype)\n",
    "        \n",
    "        mask = mask[:,:,None].repeat(3,axis=2) #in order to use the transformations given by torchvision\n",
    "        weight = weight[:,:,None].repeat(3,axis=2) #inputs need to be 3D, so here we convert from 1d to 3d by repetition\n",
    "        \n",
    "        img_new = img\n",
    "        mask_new = mask\n",
    "        weight_new = weight\n",
    "        \n",
    "        seed = random.randrange(sys.maxsize) #get a random seed so that we can reproducibly do the transofrmations\n",
    "        if self.img_transform is not None:\n",
    "            random.seed(seed) # apply this seed to img transforms\n",
    "            img_new = self.img_transform(img)\n",
    "\n",
    "        if self.mask_transform is not None:\n",
    "            random.seed(seed)\n",
    "            mask_new = self.mask_transform(mask)\n",
    "            mask_new = np.asarray(mask_new)[:,:,0].squeeze()\n",
    "            \n",
    "            random.seed(seed)\n",
    "            weight_new = self.mask_transform(weight)\n",
    "            weight_new = np.asarray(weight_new)[:,:,0].squeeze()\n",
    "\n",
    "        return img_new, mask_new, weight_new\n",
    "    def __len__(self):\n",
    "        return self.nitems"
   ]
  },
  {
   "cell_type": "code",
   "execution_count": 7,
   "metadata": {},
   "outputs": [],
   "source": [
    "#note that since we need the transofrmations to be reproducible for both masks and images\n",
    "#we do the spatial transformations first, and afterwards do any color augmentations\n",
    "img_transform = transforms.Compose([\n",
    "     transforms.ToPILImage(),\n",
    "    transforms.RandomVerticalFlip(),\n",
    "    transforms.RandomHorizontalFlip(),\n",
    "    transforms.RandomCrop(size=(patch_size,patch_size),pad_if_needed=True), #these need to be in a reproducible order, first affine transforms and then color\n",
    "    transforms.RandomResizedCrop(size=patch_size),\n",
    "    transforms.RandomRotation(180),\n",
    "    transforms.ColorJitter(brightness=0, contrast=0, saturation=0, hue=.5),\n",
    "    transforms.RandomGrayscale(),\n",
    "    transforms.ToTensor()\n",
    "    ])\n",
    "\n",
    "\n",
    "mask_transform = transforms.Compose([\n",
    "    transforms.ToPILImage(),\n",
    "    transforms.RandomVerticalFlip(),\n",
    "    transforms.RandomHorizontalFlip(),\n",
    "    transforms.RandomCrop(size=(patch_size,patch_size),pad_if_needed=True), #these need to be in a reproducible order, first affine transforms and then color\n",
    "    transforms.RandomResizedCrop(size=patch_size,interpolation=PIL.Image.NEAREST),\n",
    "    transforms.RandomRotation(180),\n",
    "    ])\n",
    "\n"
   ]
  },
  {
   "cell_type": "code",
   "execution_count": 8,
   "metadata": {},
   "outputs": [
    {
     "name": "stdout",
     "output_type": "stream",
     "text": [
      "train\n",
      "val\n",
      "44205\n"
     ]
    }
   ],
   "source": [
    "\n",
    "\n",
    "\n",
    "dataset={}\n",
    "dataLoader={}\n",
    "for phase in phases: #now for each of the phases, we're creating the dataloader\n",
    "                     #interestingly, given the batch size, i've not seen any improvements from using a num_workers>0\n",
    "    print(phase)\n",
    "    dataset[phase]=Dataset(f\"{pytable_root}/{dataname}_{phase}.pytable\", img_transform=img_transform , mask_transform = mask_transform ,edge_weight=edge_weight)\n",
    "    dataLoader[phase]=DataLoader(dataset[phase], batch_size=batch_size, \n",
    "                                shuffle=True, num_workers=0, pin_memory=True) \n",
    "print(len(dataset[\"train\"]))"
   ]
  },
  {
   "cell_type": "code",
   "execution_count": 9,
   "metadata": {},
   "outputs": [
    {
     "name": "stdout",
     "output_type": "stream",
     "text": [
      "0\n"
     ]
    },
    {
     "data": {
      "text/plain": [
       "<matplotlib.image.AxesImage at 0x184c3424e80>"
      ]
     },
     "execution_count": 9,
     "metadata": {},
     "output_type": "execute_result"
    },
    {
     "data": {
      "image/png": "[encoded data removed]",
      "text/plain": [
       "<Figure size 720x288 with 4 Axes>"
      ]
     },
     "metadata": {
      "needs_background": "light"
     },
     "output_type": "display_data"
    }
   ],
   "source": [
    "#visualize a single example to verify that it is correct\n",
    "(img,patch_mask,patch_mask_weight)=dataset[\"train\"][12395]\n",
    "fig, ax = plt.subplots(1,4, figsize=(10,4))  # 1 row, 2 columns\n",
    "print(patch_mask.max())\n",
    "#build output showing original patch  (after augmentation), class = 1 mask, weighting mask, overall mask (to see any ignored classes)\n",
    "ax[0].imshow(np.moveaxis(img.numpy(),0,-1))\n",
    "ax[1].imshow(patch_mask==3)\n",
    "ax[2].imshow(patch_mask_weight)\n",
    "ax[3].imshow(patch_mask)"
   ]
  },
  {
   "cell_type": "code",
   "execution_count": 10,
   "metadata": {},
   "outputs": [],
   "source": [
    "optim = torch.optim.Adam(model.parameters()) #adam is going to be the most robust, though perhaps not the best performing, typically a good place to start\n",
    "# optim = torch.optim.SGD(model.parameters(),\n",
    "#                           lr=.1,\n",
    "#                           momentum=0.9,\n",
    "#                           weight_decay=0.0005)"
   ]
  },
  {
   "cell_type": "code",
   "execution_count": 11,
   "metadata": {},
   "outputs": [
    {
     "name": "stdout",
     "output_type": "stream",
     "text": [
      "tensor([0.7752, 0.8769, 0.3479], device='cuda:0')\n",
      "numclass 4\n",
      "ignore 0\n",
      "\n"
     ]
    }
   ],
   "source": [
    "#we have the ability to weight individual classes, in this case we'll do so based on their presense in the trainingset\n",
    "#to avoid biasing any particular class\n",
    "nclasses = dataset[\"train\"].numpixels.shape[1]\n",
    "#0 is ignored\n",
    "class_weight=dataset[\"train\"].numpixels[1,1:nclasses] #don't take ignored class into account here\n",
    "class_weight = torch.from_numpy(1-class_weight/class_weight.sum()).type('torch.FloatTensor').to(device)\n",
    "\n",
    "print(class_weight) #show final used weights, make sure that they're reasonable before continouing\n",
    "criterion = nn.CrossEntropyLoss(ignore_index = ignore_index ,reduce=None) #reduce = False makes sure we get a 2D output instead of a 1D \"summary\" value\n",
    "print(\"numclass\",nclasses)\n",
    "print(\"ignore\",ignore_index)\n",
    "print()"
   ]
  },
  {
   "cell_type": "code",
   "execution_count": 12,
   "metadata": {},
   "outputs": [
    {
     "name": "stderr",
     "output_type": "stream",
     "text": [
      "4421it [17:50,  4.61it/s]\n",
      "c:\\program files\\python\\lib\\site-packages\\ipykernel_launcher.py:48: RuntimeWarning: invalid value encountered in true_divide\n",
      "420it [03:58,  1.99it/s]\n",
      "c:\\program files\\python\\lib\\site-packages\\ipykernel_launcher.py:65: RuntimeWarning: invalid value encountered in double_scalars\n"
     ]
    },
    {
     "name": "stdout",
     "output_type": "stream",
     "text": [
      "21m 49s (- 2158m 27s) ([1/100] 1%), train loss: 0.8639 test loss: 0.9415  **\n"
     ]
    },
    {
     "name": "stderr",
     "output_type": "stream",
     "text": [
      "4421it [18:10,  4.75it/s]\n",
      "420it [03:58,  2.00it/s]\n"
     ]
    },
    {
     "name": "stdout",
     "output_type": "stream",
     "text": [
      "43m 58s (- 2153m 59s) ([2/100] 2%), train loss: 0.8383 test loss: 0.9270  **\n"
     ]
    },
    {
     "name": "stderr",
     "output_type": "stream",
     "text": [
      "4421it [17:46,  4.87it/s]\n",
      "420it [03:49,  2.04it/s]\n"
     ]
    },
    {
     "name": "stdout",
     "output_type": "stream",
     "text": [
      "65m 34s (- 2119m 41s) ([3/100] 3%), train loss: 0.8293 test loss: 0.9034  **\n"
     ]
    },
    {
     "name": "stderr",
     "output_type": "stream",
     "text": [
      "4421it [17:36,  4.85it/s]\n",
      "420it [03:53,  2.09it/s]\n"
     ]
    },
    {
     "name": "stdout",
     "output_type": "stream",
     "text": [
      "87m 4s (- 2089m 18s) ([4/100] 4%), train loss: 0.8275 test loss: 0.8907  **\n"
     ]
    },
    {
     "name": "stderr",
     "output_type": "stream",
     "text": [
      "4421it [18:06,  4.73it/s]\n",
      "420it [03:56,  2.04it/s]\n"
     ]
    },
    {
     "name": "stdout",
     "output_type": "stream",
     "text": [
      "109m 8s (- 2073m 10s) ([5/100] 5%), train loss: 0.8214 test loss: 0.9125\n"
     ]
    },
    {
     "name": "stderr",
     "output_type": "stream",
     "text": [
      "4421it [18:03,  4.72it/s]\n",
      "420it [03:54,  2.02it/s]\n"
     ]
    },
    {
     "name": "stdout",
     "output_type": "stream",
     "text": [
      "131m 6s (- 2053m 37s) ([6/100] 6%), train loss: 0.8160 test loss: 0.9111\n"
     ]
    },
    {
     "name": "stderr",
     "output_type": "stream",
     "text": [
      "4421it [18:01,  4.87it/s]\n",
      "420it [03:53,  1.90it/s]\n"
     ]
    },
    {
     "name": "stdout",
     "output_type": "stream",
     "text": [
      "153m 1s (- 2032m 48s) ([7/100] 7%), train loss: 0.8062 test loss: 0.8842  **\n"
     ]
    },
    {
     "name": "stderr",
     "output_type": "stream",
     "text": [
      "4421it [18:15,  4.42it/s]\n",
      "420it [04:00,  1.95it/s]\n"
     ]
    },
    {
     "name": "stdout",
     "output_type": "stream",
     "text": [
      "175m 17s (- 2015m 39s) ([8/100] 8%), train loss: 0.7995 test loss: 0.8813  **\n"
     ]
    },
    {
     "name": "stderr",
     "output_type": "stream",
     "text": [
      "4421it [18:54,  4.55it/s]\n",
      "420it [03:59,  2.05it/s]\n"
     ]
    },
    {
     "name": "stdout",
     "output_type": "stream",
     "text": [
      "198m 12s (- 2003m 48s) ([9/100] 9%), train loss: 0.7891 test loss: 0.9077\n"
     ]
    },
    {
     "name": "stderr",
     "output_type": "stream",
     "text": [
      "4421it [18:01,  4.84it/s]\n",
      "420it [03:54,  2.05it/s]\n"
     ]
    },
    {
     "name": "stdout",
     "output_type": "stream",
     "text": [
      "220m 7s (- 1980m 58s) ([10/100] 10%), train loss: 0.7871 test loss: 0.8644  **\n"
     ]
    },
    {
     "name": "stderr",
     "output_type": "stream",
     "text": [
      "4421it [18:04,  4.79it/s]\n",
      "420it [03:54,  2.04it/s]\n"
     ]
    },
    {
     "name": "stdout",
     "output_type": "stream",
     "text": [
      "242m 6s (- 1958m 42s) ([11/100] 11%), train loss: 0.7779 test loss: 0.9418\n"
     ]
    },
    {
     "name": "stderr",
     "output_type": "stream",
     "text": [
      "4421it [17:55,  4.80it/s]\n",
      "420it [03:53,  2.04it/s]\n"
     ]
    },
    {
     "name": "stdout",
     "output_type": "stream",
     "text": [
      "263m 56s (- 1935m 20s) ([12/100] 12%), train loss: 0.7782 test loss: 0.8926\n"
     ]
    },
    {
     "name": "stderr",
     "output_type": "stream",
     "text": [
      "4421it [17:57,  4.73it/s]\n",
      "420it [03:53,  2.03it/s]\n"
     ]
    },
    {
     "name": "stdout",
     "output_type": "stream",
     "text": [
      "285m 47s (- 1912m 24s) ([13/100] 13%), train loss: 0.7766 test loss: 0.8654\n"
     ]
    },
    {
     "name": "stderr",
     "output_type": "stream",
     "text": [
      "4421it [17:57,  4.68it/s]\n",
      "420it [03:53,  2.01it/s]\n"
     ]
    },
    {
     "name": "stdout",
     "output_type": "stream",
     "text": [
      "307m 37s (- 1889m 35s) ([14/100] 14%), train loss: 0.7726 test loss: 0.8998\n"
     ]
    },
    {
     "name": "stderr",
     "output_type": "stream",
     "text": [
      "4421it [17:58,  4.77it/s]\n",
      "420it [03:53,  2.01it/s]\n"
     ]
    },
    {
     "name": "stdout",
     "output_type": "stream",
     "text": [
      "329m 30s (- 1867m 2s) ([15/100] 15%), train loss: 0.7706 test loss: 0.8797\n"
     ]
    },
    {
     "name": "stderr",
     "output_type": "stream",
     "text": [
      "4421it [17:44,  4.91it/s]\n",
      "420it [03:49,  2.08it/s]\n"
     ]
    },
    {
     "name": "stdout",
     "output_type": "stream",
     "text": [
      "351m 3s (- 1842m 55s) ([16/100] 16%), train loss: 0.7679 test loss: 0.8734\n"
     ]
    },
    {
     "name": "stderr",
     "output_type": "stream",
     "text": [
      "4421it [17:37,  4.83it/s]\n",
      "420it [03:48,  2.07it/s]\n"
     ]
    },
    {
     "name": "stdout",
     "output_type": "stream",
     "text": [
      "372m 29s (- 1818m 28s) ([17/100] 17%), train loss: 0.7701 test loss: 0.8541  **\n"
     ]
    },
    {
     "name": "stderr",
     "output_type": "stream",
     "text": [
      "4421it [17:29,  4.94it/s]\n",
      "420it [03:48,  2.08it/s]\n"
     ]
    },
    {
     "name": "stdout",
     "output_type": "stream",
     "text": [
      "393m 46s (- 1793m 44s) ([18/100] 18%), train loss: 0.7621 test loss: 0.8780\n"
     ]
    },
    {
     "name": "stderr",
     "output_type": "stream",
     "text": [
      "4421it [17:34,  4.71it/s]\n",
      "420it [04:07,  1.37it/s]\n"
     ]
    },
    {
     "name": "stdout",
     "output_type": "stream",
     "text": [
      "415m 28s (- 1771m 7s) ([19/100] 19%), train loss: 0.7696 test loss: 0.8770\n"
     ]
    },
    {
     "name": "stderr",
     "output_type": "stream",
     "text": [
      "4421it [18:28,  4.87it/s]\n",
      "420it [03:50,  2.03it/s]\n"
     ]
    },
    {
     "name": "stdout",
     "output_type": "stream",
     "text": [
      "437m 47s (- 1751m 3s) ([20/100] 20%), train loss: 0.7618 test loss: 0.8707\n"
     ]
    },
    {
     "name": "stderr",
     "output_type": "stream",
     "text": [
      "4421it [17:41,  4.57it/s]\n",
      "420it [03:53,  2.00it/s]\n"
     ]
    },
    {
     "name": "stdout",
     "output_type": "stream",
     "text": [
      "459m 22s (- 1728m 1s) ([21/100] 21%), train loss: 0.7661 test loss: 0.8531  **\n"
     ]
    },
    {
     "name": "stderr",
     "output_type": "stream",
     "text": [
      "4421it [17:34,  4.88it/s]\n",
      "420it [03:51,  2.08it/s]\n"
     ]
    },
    {
     "name": "stdout",
     "output_type": "stream",
     "text": [
      "480m 48s (- 1704m 34s) ([22/100] 22%), train loss: 0.7549 test loss: 0.8823\n"
     ]
    },
    {
     "name": "stderr",
     "output_type": "stream",
     "text": [
      "4421it [17:26,  4.91it/s]\n",
      "420it [03:48,  2.07it/s]\n"
     ]
    },
    {
     "name": "stdout",
     "output_type": "stream",
     "text": [
      "502m 3s (- 1680m 41s) ([23/100] 23%), train loss: 0.7575 test loss: 0.8853\n"
     ]
    },
    {
     "name": "stderr",
     "output_type": "stream",
     "text": [
      "4421it [18:00,  4.59it/s]\n",
      "420it [03:51,  2.05it/s]\n"
     ]
    },
    {
     "name": "stdout",
     "output_type": "stream",
     "text": [
      "523m 55s (- 1659m 1s) ([24/100] 24%), train loss: 0.7561 test loss: 0.8799\n"
     ]
    },
    {
     "name": "stderr",
     "output_type": "stream",
     "text": [
      "4421it [17:38,  4.75it/s]\n",
      "420it [03:49,  2.06it/s]\n"
     ]
    },
    {
     "name": "stdout",
     "output_type": "stream",
     "text": [
      "545m 23s (- 1636m 6s) ([25/100] 25%), train loss: 0.7589 test loss: 0.8448  **\n"
     ]
    },
    {
     "name": "stderr",
     "output_type": "stream",
     "text": [
      "4421it [17:44,  4.80it/s]\n",
      "420it [03:55,  2.01it/s]\n"
     ]
    },
    {
     "name": "stdout",
     "output_type": "stream",
     "text": [
      "567m 4s (- 1613m 52s) ([26/100] 26%), train loss: 0.7558 test loss: 0.8560\n"
     ]
    },
    {
     "name": "stderr",
     "output_type": "stream",
     "text": [
      "4421it [17:24,  4.91it/s]\n",
      "420it [03:45,  2.10it/s]\n"
     ]
    },
    {
     "name": "stdout",
     "output_type": "stream",
     "text": [
      "588m 14s (- 1590m 20s) ([27/100] 27%), train loss: 0.7522 test loss: 0.8807\n"
     ]
    },
    {
     "name": "stderr",
     "output_type": "stream",
     "text": [
      "4421it [17:24,  4.87it/s]\n",
      "420it [03:46,  2.10it/s]\n"
     ]
    },
    {
     "name": "stdout",
     "output_type": "stream",
     "text": [
      "609m 24s (- 1566m 59s) ([28/100] 28%), train loss: 0.7499 test loss: 0.8619\n"
     ]
    },
    {
     "name": "stderr",
     "output_type": "stream",
     "text": [
      "4421it [17:21,  4.99it/s]\n",
      "420it [03:46,  2.12it/s]\n"
     ]
    },
    {
     "name": "stdout",
     "output_type": "stream",
     "text": [
      "630m 33s (- 1543m 41s) ([29/100] 28%), train loss: 0.7485 test loss: 0.8520\n"
     ]
    },
    {
     "name": "stderr",
     "output_type": "stream",
     "text": [
      "4421it [17:11,  4.91it/s]\n",
      "420it [03:43,  2.16it/s]\n"
     ]
    },
    {
     "name": "stdout",
     "output_type": "stream",
     "text": [
      "651m 28s (- 1520m 2s) ([30/100] 30%), train loss: 0.7450 test loss: 0.8558\n"
     ]
    },
    {
     "name": "stderr",
     "output_type": "stream",
     "text": [
      "4421it [17:38,  4.79it/s]\n",
      "420it [03:54,  2.01it/s]\n"
     ]
    },
    {
     "name": "stdout",
     "output_type": "stream",
     "text": [
      "673m 1s (- 1497m 58s) ([31/100] 31%), train loss: 0.7502 test loss: 0.8437  **\n"
     ]
    },
    {
     "name": "stderr",
     "output_type": "stream",
     "text": [
      "4421it [17:45,  4.96it/s]\n",
      "420it [03:49,  2.06it/s]\n"
     ]
    },
    {
     "name": "stdout",
     "output_type": "stream",
     "text": [
      "694m 37s (- 1475m 59s) ([32/100] 32%), train loss: 0.7474 test loss: 0.8812\n"
     ]
    },
    {
     "name": "stderr",
     "output_type": "stream",
     "text": [
      "4421it [17:32,  4.82it/s]\n",
      "420it [03:49,  2.06it/s]\n"
     ]
    },
    {
     "name": "stdout",
     "output_type": "stream",
     "text": [
      "715m 59s (- 1453m 36s) ([33/100] 33%), train loss: 0.7456 test loss: 0.8792\n"
     ]
    },
    {
     "name": "stderr",
     "output_type": "stream",
     "text": [
      "4421it [17:34,  4.89it/s]\n",
      "420it [03:52,  2.06it/s]\n"
     ]
    },
    {
     "name": "stdout",
     "output_type": "stream",
     "text": [
      "737m 26s (- 1431m 26s) ([34/100] 34%), train loss: 0.7476 test loss: 0.8721\n"
     ]
    },
    {
     "name": "stderr",
     "output_type": "stream",
     "text": [
      "4421it [17:49,  4.79it/s]\n",
      "420it [03:54,  2.03it/s]\n"
     ]
    },
    {
     "name": "stdout",
     "output_type": "stream",
     "text": [
      "759m 10s (- 1409m 49s) ([35/100] 35%), train loss: 0.7418 test loss: 0.8628\n"
     ]
    },
    {
     "name": "stderr",
     "output_type": "stream",
     "text": [
      "4421it [17:38,  4.92it/s]\n",
      "420it [03:44,  2.10it/s]\n"
     ]
    },
    {
     "name": "stdout",
     "output_type": "stream",
     "text": [
      "780m 33s (- 1387m 36s) ([36/100] 36%), train loss: 0.7452 test loss: 0.8777\n"
     ]
    },
    {
     "name": "stderr",
     "output_type": "stream",
     "text": [
      "4421it [17:13,  4.89it/s]\n",
      "420it [03:48,  2.12it/s]\n"
     ]
    },
    {
     "name": "stdout",
     "output_type": "stream",
     "text": [
      "801m 35s (- 1364m 49s) ([37/100] 37%), train loss: 0.7374 test loss: 0.8497\n"
     ]
    },
    {
     "name": "stderr",
     "output_type": "stream",
     "text": [
      "4421it [17:14,  5.02it/s]\n",
      "420it [03:44,  2.12it/s]\n"
     ]
    },
    {
     "name": "stdout",
     "output_type": "stream",
     "text": [
      "822m 34s (- 1342m 3s) ([38/100] 38%), train loss: 0.7401 test loss: 0.8427  **\n"
     ]
    },
    {
     "name": "stderr",
     "output_type": "stream",
     "text": [
      "4421it [17:14,  5.00it/s]\n",
      "420it [03:45,  2.06it/s]\n"
     ]
    },
    {
     "name": "stdout",
     "output_type": "stream",
     "text": [
      "843m 34s (- 1319m 23s) ([39/100] 39%), train loss: 0.7447 test loss: 0.8352  **\n"
     ]
    },
    {
     "name": "stderr",
     "output_type": "stream",
     "text": [
      "4421it [17:16,  4.91it/s]\n",
      "420it [03:45,  2.09it/s]\n"
     ]
    },
    {
     "name": "stdout",
     "output_type": "stream",
     "text": [
      "864m 36s (- 1296m 51s) ([40/100] 40%), train loss: 0.7423 test loss: 0.8955\n"
     ]
    },
    {
     "name": "stderr",
     "output_type": "stream",
     "text": [
      "4421it [17:13,  5.02it/s]\n",
      "420it [03:44,  2.11it/s]\n"
     ]
    },
    {
     "name": "stdout",
     "output_type": "stream",
     "text": [
      "885m 35s (- 1274m 19s) ([41/100] 41%), train loss: 0.7427 test loss: 0.8302  **\n"
     ]
    },
    {
     "name": "stderr",
     "output_type": "stream",
     "text": [
      "4421it [17:14,  4.94it/s]\n",
      "420it [03:45,  2.14it/s]\n"
     ]
    },
    {
     "name": "stdout",
     "output_type": "stream",
     "text": [
      "906m 34s (- 1251m 53s) ([42/100] 42%), train loss: 0.7403 test loss: 0.8593\n"
     ]
    },
    {
     "name": "stderr",
     "output_type": "stream",
     "text": [
      "4421it [17:14,  5.00it/s]\n",
      "420it [03:44,  2.10it/s]\n"
     ]
    },
    {
     "name": "stdout",
     "output_type": "stream",
     "text": [
      "927m 33s (- 1229m 30s) ([43/100] 43%), train loss: 0.7401 test loss: 0.8696\n"
     ]
    },
    {
     "name": "stderr",
     "output_type": "stream",
     "text": [
      "4421it [17:15,  4.94it/s]\n",
      "420it [03:44,  2.12it/s]\n"
     ]
    },
    {
     "name": "stdout",
     "output_type": "stream",
     "text": [
      "948m 33s (- 1207m 12s) ([44/100] 44%), train loss: 0.7332 test loss: 0.8406\n"
     ]
    },
    {
     "name": "stderr",
     "output_type": "stream",
     "text": [
      "4421it [17:14,  4.73it/s]\n",
      "420it [03:45,  2.11it/s]\n"
     ]
    },
    {
     "name": "stdout",
     "output_type": "stream",
     "text": [
      "969m 33s (- 1184m 57s) ([45/100] 45%), train loss: 0.7396 test loss: 0.9086\n"
     ]
    },
    {
     "name": "stderr",
     "output_type": "stream",
     "text": [
      "4421it [17:14,  4.84it/s]\n",
      "420it [03:44,  2.10it/s]\n"
     ]
    },
    {
     "name": "stdout",
     "output_type": "stream",
     "text": [
      "990m 32s (- 1162m 45s) ([46/100] 46%), train loss: 0.7435 test loss: 0.8861\n"
     ]
    },
    {
     "name": "stderr",
     "output_type": "stream",
     "text": [
      "4421it [17:14,  5.06it/s]\n",
      "420it [03:44,  2.13it/s]\n"
     ]
    },
    {
     "name": "stdout",
     "output_type": "stream",
     "text": [
      "1011m 32s (- 1140m 37s) ([47/100] 47%), train loss: 0.7392 test loss: 0.8572\n"
     ]
    },
    {
     "name": "stderr",
     "output_type": "stream",
     "text": [
      "4421it [17:14,  5.04it/s]\n",
      "420it [03:44,  2.09it/s]\n"
     ]
    },
    {
     "name": "stdout",
     "output_type": "stream",
     "text": [
      "1032m 31s (- 1118m 31s) ([48/100] 48%), train loss: 0.7386 test loss: 0.8582\n"
     ]
    },
    {
     "name": "stderr",
     "output_type": "stream",
     "text": [
      "4421it [17:14,  4.83it/s]\n",
      "420it [03:44,  2.12it/s]\n"
     ]
    },
    {
     "name": "stdout",
     "output_type": "stream",
     "text": [
      "1053m 31s (- 1096m 29s) ([49/100] 49%), train loss: 0.7387 test loss: 0.8587\n"
     ]
    },
    {
     "name": "stderr",
     "output_type": "stream",
     "text": [
      "4421it [17:13,  5.05it/s]\n",
      "420it [03:45,  2.11it/s]\n"
     ]
    },
    {
     "name": "stdout",
     "output_type": "stream",
     "text": [
      "1074m 30s (- 1074m 27s) ([50/100] 50%), train loss: 0.7347 test loss: 0.8839\n"
     ]
    },
    {
     "name": "stderr",
     "output_type": "stream",
     "text": [
      "4421it [17:13,  4.93it/s]\n",
      "420it [03:44,  2.12it/s]\n"
     ]
    },
    {
     "name": "stdout",
     "output_type": "stream",
     "text": [
      "1095m 29s (- 1052m 28s) ([51/100] 51%), train loss: 0.7344 test loss: 0.8468\n"
     ]
    },
    {
     "name": "stderr",
     "output_type": "stream",
     "text": [
      "4421it [17:26,  4.93it/s]\n",
      "420it [03:44,  2.10it/s]\n"
     ]
    },
    {
     "name": "stdout",
     "output_type": "stream",
     "text": [
      "1116m 40s (- 1030m 44s) ([52/100] 52%), train loss: 0.7392 test loss: 0.8568\n"
     ]
    },
    {
     "name": "stderr",
     "output_type": "stream",
     "text": [
      "4421it [17:19,  4.81it/s]\n",
      "420it [03:44,  2.06it/s]\n"
     ]
    },
    {
     "name": "stdout",
     "output_type": "stream",
     "text": [
      "1137m 44s (- 1008m 54s) ([53/100] 53%), train loss: 0.7308 test loss: 0.8389\n"
     ]
    },
    {
     "name": "stderr",
     "output_type": "stream",
     "text": [
      "4421it [17:20,  5.00it/s]\n",
      "420it [03:44,  2.08it/s]\n"
     ]
    },
    {
     "name": "stdout",
     "output_type": "stream",
     "text": [
      "1158m 49s (- 987m 6s) ([54/100] 54%), train loss: 0.7369 test loss: 0.8774\n"
     ]
    },
    {
     "name": "stderr",
     "output_type": "stream",
     "text": [
      "4421it [17:21,  4.91it/s]\n",
      "420it [03:44,  2.14it/s]\n"
     ]
    },
    {
     "name": "stdout",
     "output_type": "stream",
     "text": [
      "1179m 55s (- 965m 21s) ([55/100] 55%), train loss: 0.7369 test loss: 0.8303\n"
     ]
    },
    {
     "name": "stderr",
     "output_type": "stream",
     "text": [
      "4421it [17:20,  4.98it/s]\n",
      "420it [03:44,  2.13it/s]\n"
     ]
    },
    {
     "name": "stdout",
     "output_type": "stream",
     "text": [
      "1201m 0s (- 943m 36s) ([56/100] 56%), train loss: 0.7287 test loss: 0.8460\n"
     ]
    },
    {
     "name": "stderr",
     "output_type": "stream",
     "text": [
      "4421it [17:23,  4.83it/s]\n",
      "420it [03:44,  2.10it/s]\n"
     ]
    },
    {
     "name": "stdout",
     "output_type": "stream",
     "text": [
      "1222m 8s (- 921m 56s) ([57/100] 56%), train loss: 0.7327 test loss: 0.8737\n"
     ]
    },
    {
     "name": "stderr",
     "output_type": "stream",
     "text": [
      "4421it [17:23,  4.91it/s]\n",
      "420it [03:44,  2.11it/s]\n"
     ]
    },
    {
     "name": "stdout",
     "output_type": "stream",
     "text": [
      "1243m 17s (- 900m 16s) ([58/100] 57%), train loss: 0.7291 test loss: 0.8646\n"
     ]
    },
    {
     "name": "stderr",
     "output_type": "stream",
     "text": [
      "4421it [17:22,  4.90it/s]\n",
      "420it [03:44,  2.09it/s]\n"
     ]
    },
    {
     "name": "stdout",
     "output_type": "stream",
     "text": [
      "1264m 24s (- 878m 37s) ([59/100] 59%), train loss: 0.7280 test loss: 0.8437\n"
     ]
    },
    {
     "name": "stderr",
     "output_type": "stream",
     "text": [
      "4421it [17:19,  4.82it/s]\n",
      "420it [03:44,  2.11it/s]\n"
     ]
    },
    {
     "name": "stdout",
     "output_type": "stream",
     "text": [
      "1285m 28s (- 856m 57s) ([60/100] 60%), train loss: 0.7310 test loss: 0.8823\n"
     ]
    },
    {
     "name": "stderr",
     "output_type": "stream",
     "text": [
      "4421it [17:20,  5.03it/s]\n",
      "420it [03:44,  2.10it/s]\n"
     ]
    },
    {
     "name": "stdout",
     "output_type": "stream",
     "text": [
      "1306m 33s (- 835m 18s) ([61/100] 61%), train loss: 0.7320 test loss: 0.8703\n"
     ]
    },
    {
     "name": "stderr",
     "output_type": "stream",
     "text": [
      "4421it [17:21,  4.91it/s]\n",
      "420it [03:44,  2.10it/s]\n"
     ]
    },
    {
     "name": "stdout",
     "output_type": "stream",
     "text": [
      "1327m 40s (- 813m 41s) ([62/100] 62%), train loss: 0.7307 test loss: 0.8704\n"
     ]
    },
    {
     "name": "stderr",
     "output_type": "stream",
     "text": [
      "4421it [17:21,  4.86it/s]\n",
      "420it [03:45,  2.10it/s]\n"
     ]
    },
    {
     "name": "stdout",
     "output_type": "stream",
     "text": [
      "1348m 46s (- 792m 6s) ([63/100] 63%), train loss: 0.7280 test loss: 0.8752\n"
     ]
    },
    {
     "name": "stderr",
     "output_type": "stream",
     "text": [
      "4421it [17:19,  4.87it/s]\n",
      "420it [03:44,  2.07it/s]\n"
     ]
    },
    {
     "name": "stdout",
     "output_type": "stream",
     "text": [
      "1369m 50s (- 770m 30s) ([64/100] 64%), train loss: 0.7294 test loss: 0.8630\n"
     ]
    },
    {
     "name": "stderr",
     "output_type": "stream",
     "text": [
      "4421it [17:24,  4.88it/s]\n",
      "420it [03:44,  2.13it/s]\n"
     ]
    },
    {
     "name": "stdout",
     "output_type": "stream",
     "text": [
      "1390m 59s (- 748m 57s) ([65/100] 65%), train loss: 0.7288 test loss: 0.8519\n"
     ]
    },
    {
     "name": "stderr",
     "output_type": "stream",
     "text": [
      "4421it [17:20,  4.88it/s]\n",
      "420it [03:45,  2.14it/s]\n"
     ]
    },
    {
     "name": "stdout",
     "output_type": "stream",
     "text": [
      "1412m 4s (- 727m 24s) ([66/100] 66%), train loss: 0.7304 test loss: 0.8620\n"
     ]
    },
    {
     "name": "stderr",
     "output_type": "stream",
     "text": [
      "4421it [17:21,  4.97it/s]\n",
      "420it [03:45,  2.10it/s]\n"
     ]
    },
    {
     "name": "stdout",
     "output_type": "stream",
     "text": [
      "1433m 12s (- 705m 52s) ([67/100] 67%), train loss: 0.7266 test loss: 0.8532\n"
     ]
    },
    {
     "name": "stderr",
     "output_type": "stream",
     "text": [
      "4421it [17:16,  4.88it/s]\n",
      "420it [03:43,  2.10it/s]\n"
     ]
    },
    {
     "name": "stdout",
     "output_type": "stream",
     "text": [
      "1454m 12s (- 684m 18s) ([68/100] 68%), train loss: 0.7205 test loss: 0.8602\n"
     ]
    },
    {
     "name": "stderr",
     "output_type": "stream",
     "text": [
      "4421it [17:16,  4.95it/s]\n",
      "420it [03:44,  2.12it/s]\n"
     ]
    },
    {
     "name": "stdout",
     "output_type": "stream",
     "text": [
      "1475m 13s (- 662m 44s) ([69/100] 69%), train loss: 0.7218 test loss: 0.8776\n"
     ]
    },
    {
     "name": "stderr",
     "output_type": "stream",
     "text": [
      "4421it [17:20,  5.08it/s]\n",
      "420it [03:43,  2.11it/s]\n"
     ]
    },
    {
     "name": "stdout",
     "output_type": "stream",
     "text": [
      "1496m 17s (- 641m 14s) ([70/100] 70%), train loss: 0.7257 test loss: 0.8775\n"
     ]
    },
    {
     "name": "stderr",
     "output_type": "stream",
     "text": [
      "4421it [17:18,  4.88it/s]\n",
      "420it [03:44,  2.13it/s]\n"
     ]
    },
    {
     "name": "stdout",
     "output_type": "stream",
     "text": [
      "1517m 21s (- 619m 43s) ([71/100] 71%), train loss: 0.7245 test loss: 0.8528\n"
     ]
    },
    {
     "name": "stderr",
     "output_type": "stream",
     "text": [
      "4421it [17:18,  4.90it/s]\n",
      "420it [03:44,  2.14it/s]\n"
     ]
    },
    {
     "name": "stdout",
     "output_type": "stream",
     "text": [
      "1538m 23s (- 598m 14s) ([72/100] 72%), train loss: 0.7269 test loss: 0.8677\n"
     ]
    },
    {
     "name": "stderr",
     "output_type": "stream",
     "text": [
      "4421it [17:15,  4.95it/s]\n",
      "420it [03:46,  2.12it/s]\n"
     ]
    },
    {
     "name": "stdout",
     "output_type": "stream",
     "text": [
      "1559m 26s (- 576m 44s) ([73/100] 73%), train loss: 0.7209 test loss: 0.9067\n"
     ]
    },
    {
     "name": "stderr",
     "output_type": "stream",
     "text": [
      "4421it [17:20,  4.91it/s]\n",
      "420it [03:44,  2.09it/s]\n"
     ]
    },
    {
     "name": "stdout",
     "output_type": "stream",
     "text": [
      "1580m 31s (- 555m 17s) ([74/100] 74%), train loss: 0.7212 test loss: 0.8513\n"
     ]
    },
    {
     "name": "stderr",
     "output_type": "stream",
     "text": [
      "4421it [17:20,  4.93it/s]\n",
      "420it [03:44,  2.13it/s]\n"
     ]
    },
    {
     "name": "stdout",
     "output_type": "stream",
     "text": [
      "1601m 36s (- 533m 50s) ([75/100] 75%), train loss: 0.7288 test loss: 0.8809\n"
     ]
    },
    {
     "name": "stderr",
     "output_type": "stream",
     "text": [
      "4421it [17:20,  4.90it/s]\n",
      "420it [03:50,  2.15it/s]\n"
     ]
    },
    {
     "name": "stdout",
     "output_type": "stream",
     "text": [
      "1622m 46s (- 512m 25s) ([76/100] 76%), train loss: 0.7203 test loss: 0.8479\n"
     ]
    },
    {
     "name": "stderr",
     "output_type": "stream",
     "text": [
      "4421it [17:17,  4.93it/s]\n",
      "420it [03:44,  2.10it/s]\n"
     ]
    },
    {
     "name": "stdout",
     "output_type": "stream",
     "text": [
      "1643m 49s (- 490m 58s) ([77/100] 77%), train loss: 0.7279 test loss: 0.8563\n"
     ]
    },
    {
     "name": "stderr",
     "output_type": "stream",
     "text": [
      "4421it [17:19,  4.80it/s]\n",
      "420it [03:49,  2.08it/s]\n"
     ]
    },
    {
     "name": "stdout",
     "output_type": "stream",
     "text": [
      "1664m 57s (- 469m 34s) ([78/100] 78%), train loss: 0.7208 test loss: 0.8658\n"
     ]
    },
    {
     "name": "stderr",
     "output_type": "stream",
     "text": [
      "4421it [17:32,  4.89it/s]\n",
      "420it [03:48,  2.07it/s]\n"
     ]
    },
    {
     "name": "stdout",
     "output_type": "stream",
     "text": [
      "1686m 19s (- 448m 14s) ([79/100] 79%), train loss: 0.7229 test loss: 0.8381\n"
     ]
    },
    {
     "name": "stderr",
     "output_type": "stream",
     "text": [
      "4421it [17:32,  4.86it/s]\n",
      "420it [03:49,  2.04it/s]\n"
     ]
    },
    {
     "name": "stdout",
     "output_type": "stream",
     "text": [
      "1707m 41s (- 426m 53s) ([80/100] 80%), train loss: 0.7223 test loss: 0.8509\n"
     ]
    },
    {
     "name": "stderr",
     "output_type": "stream",
     "text": [
      "4421it [17:32,  4.94it/s]\n",
      "420it [03:50,  2.00it/s]\n"
     ]
    },
    {
     "name": "stdout",
     "output_type": "stream",
     "text": [
      "1729m 4s (- 405m 33s) ([81/100] 81%), train loss: 0.7134 test loss: 0.8639\n"
     ]
    },
    {
     "name": "stderr",
     "output_type": "stream",
     "text": [
      "4421it [17:35,  4.86it/s]\n",
      "420it [03:50,  2.07it/s]\n"
     ]
    },
    {
     "name": "stdout",
     "output_type": "stream",
     "text": [
      "1750m 30s (- 384m 14s) ([82/100] 82%), train loss: 0.7219 test loss: 0.8849\n"
     ]
    },
    {
     "name": "stderr",
     "output_type": "stream",
     "text": [
      "4421it [17:36,  4.93it/s]\n",
      "420it [03:49,  2.09it/s]\n"
     ]
    },
    {
     "name": "stdout",
     "output_type": "stream",
     "text": [
      "1771m 57s (- 362m 54s) ([83/100] 83%), train loss: 0.7190 test loss: 0.8645\n"
     ]
    },
    {
     "name": "stderr",
     "output_type": "stream",
     "text": [
      "4421it [17:36,  4.90it/s]\n",
      "420it [03:51,  2.08it/s]\n"
     ]
    },
    {
     "name": "stdout",
     "output_type": "stream",
     "text": [
      "1793m 24s (- 341m 34s) ([84/100] 84%), train loss: 0.7216 test loss: 0.8384\n"
     ]
    },
    {
     "name": "stderr",
     "output_type": "stream",
     "text": [
      "4421it [17:40,  4.82it/s]\n",
      "420it [03:51,  2.07it/s]\n"
     ]
    },
    {
     "name": "stdout",
     "output_type": "stream",
     "text": [
      "1814m 56s (- 320m 15s) ([85/100] 85%), train loss: 0.7155 test loss: 0.8528\n"
     ]
    },
    {
     "name": "stderr",
     "output_type": "stream",
     "text": [
      "4421it [17:38,  4.89it/s]\n",
      "420it [03:50,  2.06it/s]\n"
     ]
    },
    {
     "name": "stdout",
     "output_type": "stream",
     "text": [
      "1836m 24s (- 298m 55s) ([86/100] 86%), train loss: 0.7207 test loss: 0.8573\n"
     ]
    },
    {
     "name": "stderr",
     "output_type": "stream",
     "text": [
      "4421it [17:35,  4.92it/s]\n",
      "420it [03:50,  2.07it/s]\n"
     ]
    },
    {
     "name": "stdout",
     "output_type": "stream",
     "text": [
      "1857m 51s (- 277m 35s) ([87/100] 87%), train loss: 0.7128 test loss: 0.8416\n"
     ]
    },
    {
     "name": "stderr",
     "output_type": "stream",
     "text": [
      "4421it [17:37,  4.85it/s]\n",
      "420it [03:50,  2.07it/s]\n"
     ]
    },
    {
     "name": "stdout",
     "output_type": "stream",
     "text": [
      "1879m 19s (- 256m 14s) ([88/100] 88%), train loss: 0.7173 test loss: 0.8493\n"
     ]
    },
    {
     "name": "stderr",
     "output_type": "stream",
     "text": [
      "4421it [17:36,  4.84it/s]\n",
      "420it [03:50,  2.03it/s]\n"
     ]
    },
    {
     "name": "stdout",
     "output_type": "stream",
     "text": [
      "1900m 46s (- 234m 54s) ([89/100] 89%), train loss: 0.7145 test loss: 0.8528\n"
     ]
    },
    {
     "name": "stderr",
     "output_type": "stream",
     "text": [
      "4421it [17:35,  4.92it/s]\n",
      "420it [03:50,  2.07it/s]\n"
     ]
    },
    {
     "name": "stdout",
     "output_type": "stream",
     "text": [
      "1922m 11s (- 213m 33s) ([90/100] 90%), train loss: 0.7214 test loss: 0.8479\n"
     ]
    },
    {
     "name": "stderr",
     "output_type": "stream",
     "text": [
      "4421it [17:38,  4.89it/s]\n",
      "420it [03:48,  2.06it/s]\n"
     ]
    },
    {
     "name": "stdout",
     "output_type": "stream",
     "text": [
      "1943m 39s (- 192m 12s) ([91/100] 91%), train loss: 0.7181 test loss: 0.8645\n"
     ]
    },
    {
     "name": "stderr",
     "output_type": "stream",
     "text": [
      "4421it [17:29,  4.92it/s]\n",
      "420it [03:44,  2.11it/s]\n"
     ]
    },
    {
     "name": "stdout",
     "output_type": "stream",
     "text": [
      "1964m 53s (- 170m 50s) ([92/100] 92%), train loss: 0.7173 test loss: 0.8575\n"
     ]
    },
    {
     "name": "stderr",
     "output_type": "stream",
     "text": [
      "4421it [17:19,  4.78it/s]\n",
      "420it [03:45,  2.11it/s]\n"
     ]
    },
    {
     "name": "stdout",
     "output_type": "stream",
     "text": [
      "1985m 58s (- 149m 27s) ([93/100] 93%), train loss: 0.7157 test loss: 0.8605\n"
     ]
    },
    {
     "name": "stderr",
     "output_type": "stream",
     "text": [
      "4421it [17:20,  4.85it/s]\n",
      "420it [03:45,  2.10it/s]\n"
     ]
    },
    {
     "name": "stdout",
     "output_type": "stream",
     "text": [
      "2007m 3s (- 128m 5s) ([94/100] 94%), train loss: 0.7163 test loss: 0.8541\n"
     ]
    },
    {
     "name": "stderr",
     "output_type": "stream",
     "text": [
      "4421it [17:19,  4.95it/s]\n",
      "420it [03:45,  2.13it/s]\n"
     ]
    },
    {
     "name": "stdout",
     "output_type": "stream",
     "text": [
      "2028m 8s (- 106m 43s) ([95/100] 95%), train loss: 0.7122 test loss: 0.8432\n"
     ]
    },
    {
     "name": "stderr",
     "output_type": "stream",
     "text": [
      "4421it [17:21,  4.86it/s]\n",
      "420it [03:44,  2.09it/s]\n"
     ]
    },
    {
     "name": "stdout",
     "output_type": "stream",
     "text": [
      "2049m 15s (- 85m 21s) ([96/100] 96%), train loss: 0.7172 test loss: 0.8650\n"
     ]
    },
    {
     "name": "stderr",
     "output_type": "stream",
     "text": [
      "4421it [17:22,  4.96it/s]\n",
      "420it [03:44,  2.08it/s]\n"
     ]
    },
    {
     "name": "stdout",
     "output_type": "stream",
     "text": [
      "2070m 23s (- 64m 0s) ([97/100] 97%), train loss: 0.7164 test loss: 0.8405\n"
     ]
    },
    {
     "name": "stderr",
     "output_type": "stream",
     "text": [
      "4421it [17:22,  4.91it/s]\n",
      "420it [03:45,  2.12it/s]\n"
     ]
    },
    {
     "name": "stdout",
     "output_type": "stream",
     "text": [
      "2091m 30s (- 42m 39s) ([98/100] 98%), train loss: 0.7123 test loss: 0.8664\n"
     ]
    },
    {
     "name": "stderr",
     "output_type": "stream",
     "text": [
      "4421it [17:22,  4.91it/s]\n",
      "420it [03:45,  2.11it/s]\n"
     ]
    },
    {
     "name": "stdout",
     "output_type": "stream",
     "text": [
      "2112m 38s (- 21m 19s) ([99/100] 99%), train loss: 0.7118 test loss: 0.8567\n"
     ]
    },
    {
     "name": "stderr",
     "output_type": "stream",
     "text": [
      "4421it [17:20,  4.87it/s]\n",
      "420it [03:45,  2.11it/s]\n"
     ]
    },
    {
     "name": "stdout",
     "output_type": "stream",
     "text": [
      "2133m 44s (- -1m 58s) ([100/100] 100%), train loss: 0.7112 test loss: 0.8424\n"
     ]
    }
   ],
   "source": [
    "writer=SummaryWriter() #open the tensorboard visualiser\n",
    "best_loss_on_test = np.Infinity\n",
    "cmatList = []\n",
    "start_time = time.time()\n",
    "for epoch in range(num_epochs):\n",
    "    #zero out epoch based performance variables \n",
    "    all_acc = {key: 0 for key in phases} \n",
    "    all_loss = {key: np.zeros(None) for key in phases}\n",
    "    cmatrix = {key: np.zeros((nclasses,nclasses)) for key in phases}\n",
    "    \n",
    "    for phase in phases: #iterate through both training and validation states\n",
    "                    \n",
    "        if phase == 'train':\n",
    "            model.train()  # Set model to training mode\n",
    "        else: #when in eval mode, we don't want parameters to be updated\n",
    "            model.eval()   # Set model to evaluate mode\n",
    "\n",
    "        for ii , (X, y, y_weight) in tqdm(enumerate(dataLoader[phase])): #for each of the batches\n",
    "            X = X.to(device)  # [Nbatch, 3, H, W]\n",
    "            y = y.type('torch.LongTensor').to(device)  # [Nbatch, H, W] with class indices (0, 1)\n",
    "            \n",
    "            with torch.set_grad_enabled(phase == 'train'): #dynamically set gradient computation, in case of validation, this isn't needed\n",
    "                                                            #disabling is good practice and improves inference time\n",
    "\n",
    "                prediction = model(X)  # [N, Nclass, H, W]\n",
    "                #print(type(criterion(prediction, y)))\n",
    "                loss_matrix = criterion(prediction, y)\n",
    "                \n",
    "                loss = (loss_matrix * (edge_weight**y_weight).type('torch.cuda.FloatTensor')).mean() #debug.mean() #can skip if edge weight==1\n",
    "                torch.cuda.synchronize()\n",
    "                if phase==\"train\": #in case we're in train mode, need to do back propogation\n",
    "                    optim.zero_grad()\n",
    "                    loss.backward()\n",
    "                    optim.step()\n",
    "                    train_loss = loss\n",
    "\n",
    "                    \n",
    "                all_loss[phase] = np.append(all_loss[phase], loss.detach().cpu().numpy()) #always add loss\n",
    "\n",
    "                if phase in validation_phases: #if this phase is part of validation, compute confusion matrix\n",
    "                    p=prediction[:,:,:,:].squeeze().detach().cpu().numpy()\n",
    "                    cpredflat=np.argmax(p,axis=1).flatten()\n",
    "                    yflat=y.cpu().numpy().flatten()\n",
    "                    #check:ValueError: operands could not be broadcast together with shapes (4,4) (3,3) \n",
    "                    cmatrix[phase]=cmatrix[phase]+confusion_matrix(yflat,cpredflat,dataset[\"train\"].numpixels[0][0:nclasses])\n",
    "                    #print(yflat)\n",
    "        cmatList.append(cmatrix)\n",
    "        all_acc[phase]=(cmatrix[phase]/cmatrix[phase].sum()).trace()\n",
    "        all_loss[phase] = all_loss[phase].mean()\n",
    "\n",
    "        #save metrics to tensorboard\n",
    "        writer.add_scalar(f'{phase}/loss', all_loss[phase], epoch)\n",
    "        if phase in validation_phases:\n",
    "            #0 1 2 3 -->1 n 3n 2P\n",
    "            TN = cmatrix[phase][0+1,0+1]+cmatrix[phase][2+1,2+1]\n",
    "            TP = cmatrix[phase][1+1,1+1]\n",
    "            FP = cmatrix[phase][0+1,1+1] +  cmatrix[phase][2+1,1+1]\n",
    "            FN = cmatrix[phase][1+1,0+1] + cmatrix[phase][1+1,2+1]\n",
    "            writer.add_scalar(f'{phase}/acc', all_acc[phase], epoch)\n",
    "            writer.add_scalar(f'{phase}/TN',TN , epoch)\n",
    "            writer.add_scalar(f'{phase}/TP', TP, epoch)\n",
    "            writer.add_scalar(f'{phase}/FP', FP, epoch)\n",
    "            writer.add_scalar(f'{phase}/FN', FN, epoch)\n",
    "            writer.add_scalar(f'{phase}/TNR', TN/(TN+FN), epoch)\n",
    "            writer.add_scalar(f'{phase}/TPR', TP/(TP+FP), epoch)\n",
    "                \n",
    "    print('%s ([%d/%d] %d%%), train loss: %.4f test loss: %.4f' % (timeSince(start_time, (epoch+1) / num_epochs), \n",
    "                                                 epoch+1, num_epochs ,(epoch+1) / num_epochs * 100, all_loss[\"train\"], all_loss[\"val\"]),end=\"\")    \n",
    "\n",
    "    #if current loss is the best we've seen, save model state with all variables\n",
    "    #necessary for recreation\n",
    "    if all_loss[\"val\"] < best_loss_on_test:\n",
    "        best_loss_on_test = all_loss[\"val\"]\n",
    "        print(\"  **\")\n",
    "        state = {'epoch': epoch + 1,\n",
    "         'model_dict': model.state_dict(),\n",
    "         'optim_dict': optim.state_dict(),\n",
    "         'best_loss_on_test': all_loss,\n",
    "         'n_classes': n_classes,\n",
    "         'in_channels': in_channels,\n",
    "         'padding': padding,\n",
    "         'depth': depth,\n",
    "         'wf': wf,\n",
    "         'up_mode': up_mode, 'batch_norm': batch_norm}\n",
    "\n",
    "        \n",
    "        torch.save(state, f\"{dataname}_unet_best_model.pth\")\n",
    "    else:\n",
    "        print(\"\")\n",
    "        "
   ]
  },
  {
   "cell_type": "code",
   "execution_count": 16,
   "metadata": {},
   "outputs": [
    {
     "data": {
      "text/plain": [
       "array([0], dtype=int64)"
      ]
     },
     "execution_count": 16,
     "metadata": {},
     "output_type": "execute_result"
    }
   ],
   "source": [
    "\n",
    "np.unique(yflat)\n"
   ]
  },
  {
   "cell_type": "code",
   "execution_count": 15,
   "metadata": {},
   "outputs": [],
   "source": [
    "#----- generate output\n",
    "#load best model\n",
    "checkpoint = torch.load(f\"{dataname}_unet_best_model.pth\")\n",
    "model.load_state_dict(checkpoint[\"model_dict\"])"
   ]
  },
  {
   "cell_type": "code",
   "execution_count": 16,
   "metadata": {},
   "outputs": [],
   "source": [
    "#grab a single image from validation set\n",
    "[img,mask,mask_weight]=dataset[\"val\"][2]"
   ]
  },
  {
   "cell_type": "code",
   "execution_count": 17,
   "metadata": {},
   "outputs": [
    {
     "data": {
      "text/plain": [
       "(256, 256, 4)"
      ]
     },
     "execution_count": 17,
     "metadata": {},
     "output_type": "execute_result"
    }
   ],
   "source": [
    "#generate its output\n",
    "#%%timeit\n",
    "output=model(img[None,::].to(device))\n",
    "output=output.detach().squeeze().cpu().numpy()\n",
    "output=np.moveaxis(output,0,-1) \n",
    "output.shape"
   ]
  },
  {
   "cell_type": "code",
   "execution_count": 18,
   "metadata": {},
   "outputs": [
    {
     "data": {
      "text/plain": [
       "<matplotlib.image.AxesImage at 0x184cf9e6208>"
      ]
     },
     "execution_count": 18,
     "metadata": {},
     "output_type": "execute_result"
    },
    {
     "data": {
      "image/png": "[encoded data removed]",
      "text/plain": [
       "<Figure size 720x288 with 4 Axes>"
      ]
     },
     "metadata": {
      "needs_background": "light"
     },
     "output_type": "display_data"
    }
   ],
   "source": [
    "#visualize its result\n",
    "fig, ax = plt.subplots(1,4, figsize=(10,4))  # 1 row, 2 columns\n",
    "\n",
    "ax[0].imshow(output[:,:,1])\n",
    "ax[1].imshow(np.argmax(output,axis=2))\n",
    "ax[2].imshow(mask)\n",
    "ax[3].imshow(np.moveaxis(img.numpy(),0,-1))\n"
   ]
  },
  {
   "cell_type": "code",
   "execution_count": null,
   "metadata": {},
   "outputs": [],
   "source": [
    "#------- visualize kernels and activations"
   ]
  },
  {
   "cell_type": "code",
   "execution_count": 19,
   "metadata": {},
   "outputs": [],
   "source": [
    "#helper function for visualization\n",
    "def plot_kernels(tensor, num_cols=8 ,cmap=\"gray\"):\n",
    "    if not len(tensor.shape)==4:\n",
    "        raise Exception(\"assumes a 4D tensor\")\n",
    "#    if not tensor.shape[1]==3:\n",
    "#        raise Exception(\"last dim needs to be 3 to plot\")\n",
    "    num_kernels = tensor.shape[0] * tensor.shape[1]\n",
    "    num_rows = 1+ num_kernels // num_cols\n",
    "    fig = plt.figure(figsize=(num_cols,num_rows))\n",
    "    i=0\n",
    "    t=tensor.data.numpy()\n",
    "    for t1 in t:\n",
    "        for t2 in t1:\n",
    "            i+=1\n",
    "            ax1 = fig.add_subplot(num_rows,num_cols,i)\n",
    "            ax1.imshow(t2 , cmap=cmap)\n",
    "            ax1.axis('off')\n",
    "            ax1.set_xticklabels([])\n",
    "            ax1.set_yticklabels([])\n",
    "\n",
    "    plt.subplots_adjust(wspace=0.1, hspace=0.1)\n",
    "    plt.show()"
   ]
  },
  {
   "cell_type": "code",
   "execution_count": 20,
   "metadata": {},
   "outputs": [],
   "source": [
    "class LayerActivations():\n",
    "    features=None\n",
    "    def __init__(self,layer):\n",
    "        self.hook = layer.register_forward_hook(self.hook_fn)\n",
    "    def hook_fn(self,module,input,output):\n",
    "        self.features = output.cpu()\n",
    "    def remove(self):\n",
    "        self.hook.remove()"
   ]
  },
  {
   "cell_type": "code",
   "execution_count": 21,
   "metadata": {},
   "outputs": [],
   "source": [
    "# --- visualize kernels"
   ]
  },
  {
   "cell_type": "code",
   "execution_count": 22,
   "metadata": {},
   "outputs": [
    {
     "ename": "IndexError",
     "evalue": "index 2 is out of range",
     "output_type": "error",
     "traceback": [
      "\u001b[1;31m---------------------------------------------------------------------------\u001b[0m",
      "\u001b[1;31mIndexError\u001b[0m                                Traceback (most recent call last)",
      "\u001b[1;32m<ipython-input-22-0570631c9ce1>\u001b[0m in \u001b[0;36m<module>\u001b[1;34m\u001b[0m\n\u001b[1;32m----> 1\u001b[1;33m \u001b[0mw\u001b[0m\u001b[1;33m=\u001b[0m\u001b[0mmodel\u001b[0m\u001b[1;33m.\u001b[0m\u001b[0mup_path\u001b[0m\u001b[1;33m[\u001b[0m\u001b[1;36m2\u001b[0m\u001b[1;33m]\u001b[0m\u001b[1;33m.\u001b[0m\u001b[0mconv_block\u001b[0m\u001b[1;33m.\u001b[0m\u001b[0mblock\u001b[0m\u001b[1;33m[\u001b[0m\u001b[1;36m3\u001b[0m\u001b[1;33m]\u001b[0m\u001b[1;33m\u001b[0m\u001b[1;33m\u001b[0m\u001b[0m\n\u001b[0m\u001b[0;32m      2\u001b[0m \u001b[0mplot_kernels\u001b[0m\u001b[1;33m(\u001b[0m\u001b[0mw\u001b[0m\u001b[1;33m.\u001b[0m\u001b[0mweight\u001b[0m\u001b[1;33m.\u001b[0m\u001b[0mdetach\u001b[0m\u001b[1;33m(\u001b[0m\u001b[1;33m)\u001b[0m\u001b[1;33m.\u001b[0m\u001b[0mcpu\u001b[0m\u001b[1;33m(\u001b[0m\u001b[1;33m)\u001b[0m\u001b[1;33m,\u001b[0m\u001b[1;36m8\u001b[0m\u001b[1;33m)\u001b[0m\u001b[1;33m\u001b[0m\u001b[1;33m\u001b[0m\u001b[0m\n",
      "\u001b[1;32mc:\\program files\\python\\lib\\site-packages\\torch\\nn\\modules\\container.py\u001b[0m in \u001b[0;36m__getitem__\u001b[1;34m(self, idx)\u001b[0m\n\u001b[0;32m    134\u001b[0m             \u001b[1;32mreturn\u001b[0m \u001b[0mModuleList\u001b[0m\u001b[1;33m(\u001b[0m\u001b[0mlist\u001b[0m\u001b[1;33m(\u001b[0m\u001b[0mself\u001b[0m\u001b[1;33m.\u001b[0m\u001b[0m_modules\u001b[0m\u001b[1;33m.\u001b[0m\u001b[0mvalues\u001b[0m\u001b[1;33m(\u001b[0m\u001b[1;33m)\u001b[0m\u001b[1;33m)\u001b[0m\u001b[1;33m[\u001b[0m\u001b[0midx\u001b[0m\u001b[1;33m]\u001b[0m\u001b[1;33m)\u001b[0m\u001b[1;33m\u001b[0m\u001b[1;33m\u001b[0m\u001b[0m\n\u001b[0;32m    135\u001b[0m         \u001b[1;32melse\u001b[0m\u001b[1;33m:\u001b[0m\u001b[1;33m\u001b[0m\u001b[1;33m\u001b[0m\u001b[0m\n\u001b[1;32m--> 136\u001b[1;33m             \u001b[1;32mreturn\u001b[0m \u001b[0mself\u001b[0m\u001b[1;33m.\u001b[0m\u001b[0m_modules\u001b[0m\u001b[1;33m[\u001b[0m\u001b[0mself\u001b[0m\u001b[1;33m.\u001b[0m\u001b[0m_get_abs_string_index\u001b[0m\u001b[1;33m(\u001b[0m\u001b[0midx\u001b[0m\u001b[1;33m)\u001b[0m\u001b[1;33m]\u001b[0m\u001b[1;33m\u001b[0m\u001b[1;33m\u001b[0m\u001b[0m\n\u001b[0m\u001b[0;32m    137\u001b[0m \u001b[1;33m\u001b[0m\u001b[0m\n\u001b[0;32m    138\u001b[0m     \u001b[1;32mdef\u001b[0m \u001b[0m__setitem__\u001b[0m\u001b[1;33m(\u001b[0m\u001b[0mself\u001b[0m\u001b[1;33m,\u001b[0m \u001b[0midx\u001b[0m\u001b[1;33m,\u001b[0m \u001b[0mmodule\u001b[0m\u001b[1;33m)\u001b[0m\u001b[1;33m:\u001b[0m\u001b[1;33m\u001b[0m\u001b[1;33m\u001b[0m\u001b[0m\n",
      "\u001b[1;32mc:\\program files\\python\\lib\\site-packages\\torch\\nn\\modules\\container.py\u001b[0m in \u001b[0;36m_get_abs_string_index\u001b[1;34m(self, idx)\u001b[0m\n\u001b[0;32m    125\u001b[0m         \u001b[0midx\u001b[0m \u001b[1;33m=\u001b[0m \u001b[0moperator\u001b[0m\u001b[1;33m.\u001b[0m\u001b[0mindex\u001b[0m\u001b[1;33m(\u001b[0m\u001b[0midx\u001b[0m\u001b[1;33m)\u001b[0m\u001b[1;33m\u001b[0m\u001b[1;33m\u001b[0m\u001b[0m\n\u001b[0;32m    126\u001b[0m         \u001b[1;32mif\u001b[0m \u001b[1;32mnot\u001b[0m \u001b[1;33m(\u001b[0m\u001b[1;33m-\u001b[0m\u001b[0mlen\u001b[0m\u001b[1;33m(\u001b[0m\u001b[0mself\u001b[0m\u001b[1;33m)\u001b[0m \u001b[1;33m<=\u001b[0m \u001b[0midx\u001b[0m \u001b[1;33m<\u001b[0m \u001b[0mlen\u001b[0m\u001b[1;33m(\u001b[0m\u001b[0mself\u001b[0m\u001b[1;33m)\u001b[0m\u001b[1;33m)\u001b[0m\u001b[1;33m:\u001b[0m\u001b[1;33m\u001b[0m\u001b[1;33m\u001b[0m\u001b[0m\n\u001b[1;32m--> 127\u001b[1;33m             \u001b[1;32mraise\u001b[0m \u001b[0mIndexError\u001b[0m\u001b[1;33m(\u001b[0m\u001b[1;34m'index {} is out of range'\u001b[0m\u001b[1;33m.\u001b[0m\u001b[0mformat\u001b[0m\u001b[1;33m(\u001b[0m\u001b[0midx\u001b[0m\u001b[1;33m)\u001b[0m\u001b[1;33m)\u001b[0m\u001b[1;33m\u001b[0m\u001b[1;33m\u001b[0m\u001b[0m\n\u001b[0m\u001b[0;32m    128\u001b[0m         \u001b[1;32mif\u001b[0m \u001b[0midx\u001b[0m \u001b[1;33m<\u001b[0m \u001b[1;36m0\u001b[0m\u001b[1;33m:\u001b[0m\u001b[1;33m\u001b[0m\u001b[1;33m\u001b[0m\u001b[0m\n\u001b[0;32m    129\u001b[0m             \u001b[0midx\u001b[0m \u001b[1;33m+=\u001b[0m \u001b[0mlen\u001b[0m\u001b[1;33m(\u001b[0m\u001b[0mself\u001b[0m\u001b[1;33m)\u001b[0m\u001b[1;33m\u001b[0m\u001b[1;33m\u001b[0m\u001b[0m\n",
      "\u001b[1;31mIndexError\u001b[0m: index 2 is out of range"
     ]
    }
   ],
   "source": [
    "w=model.up_path[2].conv_block.block[3]\n",
    "plot_kernels(w.weight.detach().cpu(),8)"
   ]
  },
  {
   "cell_type": "code",
   "execution_count": null,
   "metadata": {},
   "outputs": [],
   "source": [
    "# ---- visualize activiations"
   ]
  },
  {
   "cell_type": "code",
   "execution_count": 23,
   "metadata": {},
   "outputs": [
    {
     "ename": "IndexError",
     "evalue": "index 2 is out of range",
     "output_type": "error",
     "traceback": [
      "\u001b[1;31m---------------------------------------------------------------------------\u001b[0m",
      "\u001b[1;31mIndexError\u001b[0m                                Traceback (most recent call last)",
      "\u001b[1;32m<ipython-input-23-1dd56c06324e>\u001b[0m in \u001b[0;36m<module>\u001b[1;34m\u001b[0m\n\u001b[1;32m----> 1\u001b[1;33m \u001b[0mdr\u001b[0m\u001b[1;33m=\u001b[0m\u001b[0mLayerActivations\u001b[0m\u001b[1;33m(\u001b[0m\u001b[0mmodel\u001b[0m\u001b[1;33m.\u001b[0m\u001b[0mup_path\u001b[0m\u001b[1;33m[\u001b[0m\u001b[1;36m2\u001b[0m\u001b[1;33m]\u001b[0m\u001b[1;33m.\u001b[0m\u001b[0mconv_block\u001b[0m\u001b[1;33m.\u001b[0m\u001b[0mblock\u001b[0m\u001b[1;33m[\u001b[0m\u001b[1;36m3\u001b[0m\u001b[1;33m]\u001b[0m\u001b[1;33m)\u001b[0m\u001b[1;33m\u001b[0m\u001b[1;33m\u001b[0m\u001b[0m\n\u001b[0m",
      "\u001b[1;32mc:\\program files\\python\\lib\\site-packages\\torch\\nn\\modules\\container.py\u001b[0m in \u001b[0;36m__getitem__\u001b[1;34m(self, idx)\u001b[0m\n\u001b[0;32m    134\u001b[0m             \u001b[1;32mreturn\u001b[0m \u001b[0mModuleList\u001b[0m\u001b[1;33m(\u001b[0m\u001b[0mlist\u001b[0m\u001b[1;33m(\u001b[0m\u001b[0mself\u001b[0m\u001b[1;33m.\u001b[0m\u001b[0m_modules\u001b[0m\u001b[1;33m.\u001b[0m\u001b[0mvalues\u001b[0m\u001b[1;33m(\u001b[0m\u001b[1;33m)\u001b[0m\u001b[1;33m)\u001b[0m\u001b[1;33m[\u001b[0m\u001b[0midx\u001b[0m\u001b[1;33m]\u001b[0m\u001b[1;33m)\u001b[0m\u001b[1;33m\u001b[0m\u001b[1;33m\u001b[0m\u001b[0m\n\u001b[0;32m    135\u001b[0m         \u001b[1;32melse\u001b[0m\u001b[1;33m:\u001b[0m\u001b[1;33m\u001b[0m\u001b[1;33m\u001b[0m\u001b[0m\n\u001b[1;32m--> 136\u001b[1;33m             \u001b[1;32mreturn\u001b[0m \u001b[0mself\u001b[0m\u001b[1;33m.\u001b[0m\u001b[0m_modules\u001b[0m\u001b[1;33m[\u001b[0m\u001b[0mself\u001b[0m\u001b[1;33m.\u001b[0m\u001b[0m_get_abs_string_index\u001b[0m\u001b[1;33m(\u001b[0m\u001b[0midx\u001b[0m\u001b[1;33m)\u001b[0m\u001b[1;33m]\u001b[0m\u001b[1;33m\u001b[0m\u001b[1;33m\u001b[0m\u001b[0m\n\u001b[0m\u001b[0;32m    137\u001b[0m \u001b[1;33m\u001b[0m\u001b[0m\n\u001b[0;32m    138\u001b[0m     \u001b[1;32mdef\u001b[0m \u001b[0m__setitem__\u001b[0m\u001b[1;33m(\u001b[0m\u001b[0mself\u001b[0m\u001b[1;33m,\u001b[0m \u001b[0midx\u001b[0m\u001b[1;33m,\u001b[0m \u001b[0mmodule\u001b[0m\u001b[1;33m)\u001b[0m\u001b[1;33m:\u001b[0m\u001b[1;33m\u001b[0m\u001b[1;33m\u001b[0m\u001b[0m\n",
      "\u001b[1;32mc:\\program files\\python\\lib\\site-packages\\torch\\nn\\modules\\container.py\u001b[0m in \u001b[0;36m_get_abs_string_index\u001b[1;34m(self, idx)\u001b[0m\n\u001b[0;32m    125\u001b[0m         \u001b[0midx\u001b[0m \u001b[1;33m=\u001b[0m \u001b[0moperator\u001b[0m\u001b[1;33m.\u001b[0m\u001b[0mindex\u001b[0m\u001b[1;33m(\u001b[0m\u001b[0midx\u001b[0m\u001b[1;33m)\u001b[0m\u001b[1;33m\u001b[0m\u001b[1;33m\u001b[0m\u001b[0m\n\u001b[0;32m    126\u001b[0m         \u001b[1;32mif\u001b[0m \u001b[1;32mnot\u001b[0m \u001b[1;33m(\u001b[0m\u001b[1;33m-\u001b[0m\u001b[0mlen\u001b[0m\u001b[1;33m(\u001b[0m\u001b[0mself\u001b[0m\u001b[1;33m)\u001b[0m \u001b[1;33m<=\u001b[0m \u001b[0midx\u001b[0m \u001b[1;33m<\u001b[0m \u001b[0mlen\u001b[0m\u001b[1;33m(\u001b[0m\u001b[0mself\u001b[0m\u001b[1;33m)\u001b[0m\u001b[1;33m)\u001b[0m\u001b[1;33m:\u001b[0m\u001b[1;33m\u001b[0m\u001b[1;33m\u001b[0m\u001b[0m\n\u001b[1;32m--> 127\u001b[1;33m             \u001b[1;32mraise\u001b[0m \u001b[0mIndexError\u001b[0m\u001b[1;33m(\u001b[0m\u001b[1;34m'index {} is out of range'\u001b[0m\u001b[1;33m.\u001b[0m\u001b[0mformat\u001b[0m\u001b[1;33m(\u001b[0m\u001b[0midx\u001b[0m\u001b[1;33m)\u001b[0m\u001b[1;33m)\u001b[0m\u001b[1;33m\u001b[0m\u001b[1;33m\u001b[0m\u001b[0m\n\u001b[0m\u001b[0;32m    128\u001b[0m         \u001b[1;32mif\u001b[0m \u001b[0midx\u001b[0m \u001b[1;33m<\u001b[0m \u001b[1;36m0\u001b[0m\u001b[1;33m:\u001b[0m\u001b[1;33m\u001b[0m\u001b[1;33m\u001b[0m\u001b[0m\n\u001b[0;32m    129\u001b[0m             \u001b[0midx\u001b[0m \u001b[1;33m+=\u001b[0m \u001b[0mlen\u001b[0m\u001b[1;33m(\u001b[0m\u001b[0mself\u001b[0m\u001b[1;33m)\u001b[0m\u001b[1;33m\u001b[0m\u001b[1;33m\u001b[0m\u001b[0m\n",
      "\u001b[1;31mIndexError\u001b[0m: index 2 is out of range"
     ]
    }
   ],
   "source": [
    "dr=LayerActivations(model.up_path[2].conv_block.block[3])"
   ]
  },
  {
   "cell_type": "code",
   "execution_count": 24,
   "metadata": {},
   "outputs": [
    {
     "ename": "NameError",
     "evalue": "name 'dr' is not defined",
     "output_type": "error",
     "traceback": [
      "\u001b[1;31m---------------------------------------------------------------------------\u001b[0m",
      "\u001b[1;31mNameError\u001b[0m                                 Traceback (most recent call last)",
      "\u001b[1;32m<ipython-input-24-b5907773ef93>\u001b[0m in \u001b[0;36m<module>\u001b[1;34m\u001b[0m\n\u001b[0;32m      2\u001b[0m \u001b[0mplt\u001b[0m\u001b[1;33m.\u001b[0m\u001b[0mimshow\u001b[0m\u001b[1;33m(\u001b[0m\u001b[0mnp\u001b[0m\u001b[1;33m.\u001b[0m\u001b[0mmoveaxis\u001b[0m\u001b[1;33m(\u001b[0m\u001b[0mimg\u001b[0m\u001b[1;33m.\u001b[0m\u001b[0mnumpy\u001b[0m\u001b[1;33m(\u001b[0m\u001b[1;33m)\u001b[0m\u001b[1;33m,\u001b[0m\u001b[1;36m0\u001b[0m\u001b[1;33m,\u001b[0m\u001b[1;33m-\u001b[0m\u001b[1;36m1\u001b[0m\u001b[1;33m)\u001b[0m\u001b[1;33m)\u001b[0m\u001b[1;33m\u001b[0m\u001b[1;33m\u001b[0m\u001b[0m\n\u001b[0;32m      3\u001b[0m \u001b[0moutput\u001b[0m\u001b[1;33m=\u001b[0m\u001b[0mmodel\u001b[0m\u001b[1;33m(\u001b[0m\u001b[0mimg\u001b[0m\u001b[1;33m[\u001b[0m\u001b[1;32mNone\u001b[0m\u001b[1;33m,\u001b[0m\u001b[1;33m:\u001b[0m\u001b[1;33m:\u001b[0m\u001b[1;33m]\u001b[0m\u001b[1;33m.\u001b[0m\u001b[0mto\u001b[0m\u001b[1;33m(\u001b[0m\u001b[0mdevice\u001b[0m\u001b[1;33m)\u001b[0m\u001b[1;33m)\u001b[0m\u001b[1;33m\u001b[0m\u001b[1;33m\u001b[0m\u001b[0m\n\u001b[1;32m----> 4\u001b[1;33m \u001b[0mplot_kernels\u001b[0m\u001b[1;33m(\u001b[0m\u001b[0mdr\u001b[0m\u001b[1;33m.\u001b[0m\u001b[0mfeatures\u001b[0m\u001b[1;33m,\u001b[0m\u001b[1;36m8\u001b[0m\u001b[1;33m,\u001b[0m\u001b[0mcmap\u001b[0m\u001b[1;33m=\u001b[0m\u001b[1;34m\"rainbow\"\u001b[0m\u001b[1;33m)\u001b[0m\u001b[1;33m\u001b[0m\u001b[1;33m\u001b[0m\u001b[0m\n\u001b[0m",
      "\u001b[1;31mNameError\u001b[0m: name 'dr' is not defined"
     ]
    },
    {
     "data": {
      "image/png": "[encoded data removed]",
      "text/plain": [
       "<Figure size 432x288 with 1 Axes>"
      ]
     },
     "metadata": {
      "needs_background": "light"
     },
     "output_type": "display_data"
    }
   ],
   "source": [
    "[img,mask,mask_weight]=dataset[\"val\"][7]\n",
    "plt.imshow(np.moveaxis(img.numpy(),0,-1))\n",
    "output=model(img[None,::].to(device))\n",
    "plot_kernels(dr.features,8,cmap=\"rainbow\")"
   ]
  },
  {
   "cell_type": "code",
   "execution_count": 27,
   "metadata": {},
   "outputs": [],
   "source": [
    "TN = cmatrix[phase][0+1,0+1]+cmatrix[phase][2+1,2+1]\n",
    "TP = cmatrix[phase][1+1,1+1]\n",
    "FP = cmatrix[phase][0+1,1+1] +  cmatrix[phase][2+1,1+1]\n",
    "FN = cmatrix[phase][1+1,0+1] + cmatrix[phase][1+1,2+1]"
   ]
  },
  {
   "cell_type": "code",
   "execution_count": 31,
   "metadata": {},
   "outputs": [
    {
     "name": "stdout",
     "output_type": "stream",
     "text": [
      "TNR 0.7690183165749803\n",
      "FNR 0.23098168342501965\n",
      "TPR 0.6687119582788625\n",
      "FPR 0.3312880417211375\n",
      "ACC 0.7688431237469392\n"
     ]
    }
   ],
   "source": [
    "print('TNR', TN/(TN+FN))\n",
    "print('FNR', FN/(TN+FN))\n",
    "print('TPR', TP/(TP+FP))\n",
    "print('FPR', FP/(TP+FP))\n",
    "print('ACC', (TN+TP)/(FN+TN+TP+FP))"
   ]
  },
  {
   "cell_type": "code",
   "execution_count": 32,
   "metadata": {},
   "outputs": [],
   "source": [
    "## ---- Improvements:\n",
    "#1 replace Adam with SGD with appropriate learning rate reduction\n",
    " #0 1 2 3 -->1 n 3-drop 2P\n",
    "TN2 = cmatrix[phase][0+1,0+1]\n",
    "TP2 = cmatrix[phase][1+1,1+1]\n",
    "FP2 = cmatrix[phase][0+1,1+1]\n",
    "FN2 = cmatrix[phase][1+1,0+1]"
   ]
  },
  {
   "cell_type": "code",
   "execution_count": 33,
   "metadata": {},
   "outputs": [
    {
     "name": "stdout",
     "output_type": "stream",
     "text": [
      "TNR 0.857546803020842\n",
      "FNR 0.14245319697915806\n",
      "TPR 0.9303210161436994\n",
      "FPR 0.06967898385630054\n",
      "ACC 0.8973154649311232\n"
     ]
    }
   ],
   "source": [
    "print('TNR', TN2/(TN2+FN2))\n",
    "print('FNR', FN2/(TN2+FN2))\n",
    "print('TPR', TP2/(TP2+FP2))\n",
    "print('FPR', FP2/(TP2+FP2))\n",
    "print('ACC', (TN2+TP2)/(FN2+TN2+TP2+FP2))"
   ]
  },
  {
   "cell_type": "code",
   "execution_count": null,
   "metadata": {},
   "outputs": [],
   "source": []
  }
 ],
 "metadata": {
  "kernelspec": {
   "display_name": "Python 3",
   "language": "python",
   "name": "python3"
  },
  "language_info": {
   "codemirror_mode": {
    "name": "ipython",
    "version": 3
   },
   "file_extension": ".py",
   "mimetype": "text/x-python",
   "name": "python",
   "nbconvert_exporter": "python",
   "pygments_lexer": "ipython3",
   "version": "3.6.7"
  }
 },
 "nbformat": 4,
 "nbformat_minor": 2
}
